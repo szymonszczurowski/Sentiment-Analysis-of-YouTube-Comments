{
  "nbformat": 4,
  "nbformat_minor": 0,
  "metadata": {
    "colab": {
      "provenance": [],
      "toc_visible": true,
      "authorship_tag": "ABX9TyN2iVkWY4syY1s5ztXYZA7o",
      "include_colab_link": true
    },
    "kernelspec": {
      "name": "python3",
      "display_name": "Python 3"
    },
    "language_info": {
      "name": "python"
    }
  },
  "cells": [
    {
      "cell_type": "markdown",
      "metadata": {
        "id": "view-in-github",
        "colab_type": "text"
      },
      "source": [
        "<a href=\"https://colab.research.google.com/github/szymonszczurowski/Sentiment-Analysis-of-YouTube-Comments/blob/colab/Best_model_for_sentiment_classification.ipynb\" target=\"_parent\"><img src=\"https://colab.research.google.com/assets/colab-badge.svg\" alt=\"Open In Colab\"/></a>"
      ]
    },
    {
      "cell_type": "markdown",
      "source": [
        "# Selecting the best model for sentiment classification"
      ],
      "metadata": {
        "id": "0ZiRoRuS84oG"
      }
    },
    {
      "cell_type": "markdown",
      "source": [
        "## 1.0.0 Importing Libraries and Packages"
      ],
      "metadata": {
        "id": "jQzyE6iS88nZ"
      }
    },
    {
      "cell_type": "code",
      "source": [
        "!pip3 install emoji==0.6.0"
      ],
      "metadata": {
        "colab": {
          "base_uri": "https://localhost:8080/"
        },
        "id": "S_LTN5c2_vZQ",
        "outputId": "5a802229-f9d3-4f35-abe1-430f43246486"
      },
      "execution_count": 1,
      "outputs": [
        {
          "output_type": "stream",
          "name": "stdout",
          "text": [
            "Collecting emoji==0.6.0\n",
            "  Using cached emoji-0.6.0-py3-none-any.whl\n",
            "Installing collected packages: emoji\n",
            "  Attempting uninstall: emoji\n",
            "    Found existing installation: emoji 1.7.0\n",
            "    Uninstalling emoji-1.7.0:\n",
            "      Successfully uninstalled emoji-1.7.0\n",
            "\u001b[31mERROR: pip's dependency resolver does not currently take into account all the packages that are installed. This behaviour is the source of the following dependency conflicts.\n",
            "pysentimiento 0.7.2 requires emoji<2.0.0,>=1.6.1, but you have emoji 0.6.0 which is incompatible.\u001b[0m\u001b[31m\n",
            "\u001b[0mSuccessfully installed emoji-0.6.0\n"
          ]
        }
      ]
    },
    {
      "cell_type": "code",
      "source": [
        "!pip install transformers"
      ],
      "metadata": {
        "colab": {
          "base_uri": "https://localhost:8080/"
        },
        "id": "p8OB7xOL_yYZ",
        "outputId": "a22384a2-09f5-45f9-d1ed-1ed331a38250"
      },
      "execution_count": 2,
      "outputs": [
        {
          "output_type": "stream",
          "name": "stdout",
          "text": [
            "Requirement already satisfied: transformers in /usr/local/lib/python3.10/dist-packages (4.35.2)\n",
            "Requirement already satisfied: filelock in /usr/local/lib/python3.10/dist-packages (from transformers) (3.13.1)\n",
            "Requirement already satisfied: huggingface-hub<1.0,>=0.16.4 in /usr/local/lib/python3.10/dist-packages (from transformers) (0.20.2)\n",
            "Requirement already satisfied: numpy>=1.17 in /usr/local/lib/python3.10/dist-packages (from transformers) (1.23.5)\n",
            "Requirement already satisfied: packaging>=20.0 in /usr/local/lib/python3.10/dist-packages (from transformers) (23.2)\n",
            "Requirement already satisfied: pyyaml>=5.1 in /usr/local/lib/python3.10/dist-packages (from transformers) (6.0.1)\n",
            "Requirement already satisfied: regex!=2019.12.17 in /usr/local/lib/python3.10/dist-packages (from transformers) (2023.6.3)\n",
            "Requirement already satisfied: requests in /usr/local/lib/python3.10/dist-packages (from transformers) (2.31.0)\n",
            "Requirement already satisfied: tokenizers<0.19,>=0.14 in /usr/local/lib/python3.10/dist-packages (from transformers) (0.15.0)\n",
            "Requirement already satisfied: safetensors>=0.3.1 in /usr/local/lib/python3.10/dist-packages (from transformers) (0.4.1)\n",
            "Requirement already satisfied: tqdm>=4.27 in /usr/local/lib/python3.10/dist-packages (from transformers) (4.66.1)\n",
            "Requirement already satisfied: fsspec>=2023.5.0 in /usr/local/lib/python3.10/dist-packages (from huggingface-hub<1.0,>=0.16.4->transformers) (2023.6.0)\n",
            "Requirement already satisfied: typing-extensions>=3.7.4.3 in /usr/local/lib/python3.10/dist-packages (from huggingface-hub<1.0,>=0.16.4->transformers) (4.5.0)\n",
            "Requirement already satisfied: charset-normalizer<4,>=2 in /usr/local/lib/python3.10/dist-packages (from requests->transformers) (3.3.2)\n",
            "Requirement already satisfied: idna<4,>=2.5 in /usr/local/lib/python3.10/dist-packages (from requests->transformers) (3.6)\n",
            "Requirement already satisfied: urllib3<3,>=1.21.1 in /usr/local/lib/python3.10/dist-packages (from requests->transformers) (2.0.7)\n",
            "Requirement already satisfied: certifi>=2017.4.17 in /usr/local/lib/python3.10/dist-packages (from requests->transformers) (2023.11.17)\n"
          ]
        }
      ]
    },
    {
      "cell_type": "code",
      "source": [
        "!pip install pysentimiento"
      ],
      "metadata": {
        "colab": {
          "base_uri": "https://localhost:8080/"
        },
        "id": "vxoW2QZI_4oe",
        "outputId": "e599b891-14e1-492a-efb4-0c309516b77d"
      },
      "execution_count": 3,
      "outputs": [
        {
          "output_type": "stream",
          "name": "stdout",
          "text": [
            "Requirement already satisfied: pysentimiento in /usr/local/lib/python3.10/dist-packages (0.7.2)\n",
            "Requirement already satisfied: accelerate<0.23.0,>=0.22.0 in /usr/local/lib/python3.10/dist-packages (from pysentimiento) (0.22.0)\n",
            "Requirement already satisfied: datasets>=1.13.3 in /usr/local/lib/python3.10/dist-packages (from pysentimiento) (2.16.1)\n",
            "Collecting emoji<2.0.0,>=1.6.1 (from pysentimiento)\n",
            "  Using cached emoji-1.7.0-py3-none-any.whl\n",
            "Requirement already satisfied: spacy<4.0.0,>=3.5.0 in /usr/local/lib/python3.10/dist-packages (from pysentimiento) (3.6.1)\n",
            "Requirement already satisfied: torch!=2.0.1,>=2.0.0 in /usr/local/lib/python3.10/dist-packages (from pysentimiento) (2.1.0+cu121)\n",
            "Requirement already satisfied: transformers>=4.13.0 in /usr/local/lib/python3.10/dist-packages (from pysentimiento) (4.35.2)\n",
            "Requirement already satisfied: numpy>=1.17 in /usr/local/lib/python3.10/dist-packages (from accelerate<0.23.0,>=0.22.0->pysentimiento) (1.23.5)\n",
            "Requirement already satisfied: packaging>=20.0 in /usr/local/lib/python3.10/dist-packages (from accelerate<0.23.0,>=0.22.0->pysentimiento) (23.2)\n",
            "Requirement already satisfied: psutil in /usr/local/lib/python3.10/dist-packages (from accelerate<0.23.0,>=0.22.0->pysentimiento) (5.9.5)\n",
            "Requirement already satisfied: pyyaml in /usr/local/lib/python3.10/dist-packages (from accelerate<0.23.0,>=0.22.0->pysentimiento) (6.0.1)\n",
            "Requirement already satisfied: filelock in /usr/local/lib/python3.10/dist-packages (from datasets>=1.13.3->pysentimiento) (3.13.1)\n",
            "Requirement already satisfied: pyarrow>=8.0.0 in /usr/local/lib/python3.10/dist-packages (from datasets>=1.13.3->pysentimiento) (10.0.1)\n",
            "Requirement already satisfied: pyarrow-hotfix in /usr/local/lib/python3.10/dist-packages (from datasets>=1.13.3->pysentimiento) (0.6)\n",
            "Requirement already satisfied: dill<0.3.8,>=0.3.0 in /usr/local/lib/python3.10/dist-packages (from datasets>=1.13.3->pysentimiento) (0.3.7)\n",
            "Requirement already satisfied: pandas in /usr/local/lib/python3.10/dist-packages (from datasets>=1.13.3->pysentimiento) (1.5.3)\n",
            "Requirement already satisfied: requests>=2.19.0 in /usr/local/lib/python3.10/dist-packages (from datasets>=1.13.3->pysentimiento) (2.31.0)\n",
            "Requirement already satisfied: tqdm>=4.62.1 in /usr/local/lib/python3.10/dist-packages (from datasets>=1.13.3->pysentimiento) (4.66.1)\n",
            "Requirement already satisfied: xxhash in /usr/local/lib/python3.10/dist-packages (from datasets>=1.13.3->pysentimiento) (3.4.1)\n",
            "Requirement already satisfied: multiprocess in /usr/local/lib/python3.10/dist-packages (from datasets>=1.13.3->pysentimiento) (0.70.15)\n",
            "Requirement already satisfied: fsspec[http]<=2023.10.0,>=2023.1.0 in /usr/local/lib/python3.10/dist-packages (from datasets>=1.13.3->pysentimiento) (2023.6.0)\n",
            "Requirement already satisfied: aiohttp in /usr/local/lib/python3.10/dist-packages (from datasets>=1.13.3->pysentimiento) (3.9.1)\n",
            "Requirement already satisfied: huggingface-hub>=0.19.4 in /usr/local/lib/python3.10/dist-packages (from datasets>=1.13.3->pysentimiento) (0.20.2)\n",
            "Requirement already satisfied: spacy-legacy<3.1.0,>=3.0.11 in /usr/local/lib/python3.10/dist-packages (from spacy<4.0.0,>=3.5.0->pysentimiento) (3.0.12)\n",
            "Requirement already satisfied: spacy-loggers<2.0.0,>=1.0.0 in /usr/local/lib/python3.10/dist-packages (from spacy<4.0.0,>=3.5.0->pysentimiento) (1.0.5)\n",
            "Requirement already satisfied: murmurhash<1.1.0,>=0.28.0 in /usr/local/lib/python3.10/dist-packages (from spacy<4.0.0,>=3.5.0->pysentimiento) (1.0.10)\n",
            "Requirement already satisfied: cymem<2.1.0,>=2.0.2 in /usr/local/lib/python3.10/dist-packages (from spacy<4.0.0,>=3.5.0->pysentimiento) (2.0.8)\n",
            "Requirement already satisfied: preshed<3.1.0,>=3.0.2 in /usr/local/lib/python3.10/dist-packages (from spacy<4.0.0,>=3.5.0->pysentimiento) (3.0.9)\n",
            "Requirement already satisfied: thinc<8.2.0,>=8.1.8 in /usr/local/lib/python3.10/dist-packages (from spacy<4.0.0,>=3.5.0->pysentimiento) (8.1.12)\n",
            "Requirement already satisfied: wasabi<1.2.0,>=0.9.1 in /usr/local/lib/python3.10/dist-packages (from spacy<4.0.0,>=3.5.0->pysentimiento) (1.1.2)\n",
            "Requirement already satisfied: srsly<3.0.0,>=2.4.3 in /usr/local/lib/python3.10/dist-packages (from spacy<4.0.0,>=3.5.0->pysentimiento) (2.4.8)\n",
            "Requirement already satisfied: catalogue<2.1.0,>=2.0.6 in /usr/local/lib/python3.10/dist-packages (from spacy<4.0.0,>=3.5.0->pysentimiento) (2.0.10)\n",
            "Requirement already satisfied: typer<0.10.0,>=0.3.0 in /usr/local/lib/python3.10/dist-packages (from spacy<4.0.0,>=3.5.0->pysentimiento) (0.9.0)\n",
            "Requirement already satisfied: pathy>=0.10.0 in /usr/local/lib/python3.10/dist-packages (from spacy<4.0.0,>=3.5.0->pysentimiento) (0.10.3)\n",
            "Requirement already satisfied: smart-open<7.0.0,>=5.2.1 in /usr/local/lib/python3.10/dist-packages (from spacy<4.0.0,>=3.5.0->pysentimiento) (6.4.0)\n",
            "Requirement already satisfied: pydantic!=1.8,!=1.8.1,<3.0.0,>=1.7.4 in /usr/local/lib/python3.10/dist-packages (from spacy<4.0.0,>=3.5.0->pysentimiento) (1.10.13)\n",
            "Requirement already satisfied: jinja2 in /usr/local/lib/python3.10/dist-packages (from spacy<4.0.0,>=3.5.0->pysentimiento) (3.1.2)\n",
            "Requirement already satisfied: setuptools in /usr/local/lib/python3.10/dist-packages (from spacy<4.0.0,>=3.5.0->pysentimiento) (67.7.2)\n",
            "Requirement already satisfied: langcodes<4.0.0,>=3.2.0 in /usr/local/lib/python3.10/dist-packages (from spacy<4.0.0,>=3.5.0->pysentimiento) (3.3.0)\n",
            "Requirement already satisfied: typing-extensions in /usr/local/lib/python3.10/dist-packages (from torch!=2.0.1,>=2.0.0->pysentimiento) (4.5.0)\n",
            "Requirement already satisfied: sympy in /usr/local/lib/python3.10/dist-packages (from torch!=2.0.1,>=2.0.0->pysentimiento) (1.12)\n",
            "Requirement already satisfied: networkx in /usr/local/lib/python3.10/dist-packages (from torch!=2.0.1,>=2.0.0->pysentimiento) (3.2.1)\n",
            "Requirement already satisfied: triton==2.1.0 in /usr/local/lib/python3.10/dist-packages (from torch!=2.0.1,>=2.0.0->pysentimiento) (2.1.0)\n",
            "Requirement already satisfied: regex!=2019.12.17 in /usr/local/lib/python3.10/dist-packages (from transformers>=4.13.0->pysentimiento) (2023.6.3)\n",
            "Requirement already satisfied: tokenizers<0.19,>=0.14 in /usr/local/lib/python3.10/dist-packages (from transformers>=4.13.0->pysentimiento) (0.15.0)\n",
            "Requirement already satisfied: safetensors>=0.3.1 in /usr/local/lib/python3.10/dist-packages (from transformers>=4.13.0->pysentimiento) (0.4.1)\n",
            "Requirement already satisfied: attrs>=17.3.0 in /usr/local/lib/python3.10/dist-packages (from aiohttp->datasets>=1.13.3->pysentimiento) (23.2.0)\n",
            "Requirement already satisfied: multidict<7.0,>=4.5 in /usr/local/lib/python3.10/dist-packages (from aiohttp->datasets>=1.13.3->pysentimiento) (6.0.4)\n",
            "Requirement already satisfied: yarl<2.0,>=1.0 in /usr/local/lib/python3.10/dist-packages (from aiohttp->datasets>=1.13.3->pysentimiento) (1.9.4)\n",
            "Requirement already satisfied: frozenlist>=1.1.1 in /usr/local/lib/python3.10/dist-packages (from aiohttp->datasets>=1.13.3->pysentimiento) (1.4.1)\n",
            "Requirement already satisfied: aiosignal>=1.1.2 in /usr/local/lib/python3.10/dist-packages (from aiohttp->datasets>=1.13.3->pysentimiento) (1.3.1)\n",
            "Requirement already satisfied: async-timeout<5.0,>=4.0 in /usr/local/lib/python3.10/dist-packages (from aiohttp->datasets>=1.13.3->pysentimiento) (4.0.3)\n",
            "Requirement already satisfied: charset-normalizer<4,>=2 in /usr/local/lib/python3.10/dist-packages (from requests>=2.19.0->datasets>=1.13.3->pysentimiento) (3.3.2)\n",
            "Requirement already satisfied: idna<4,>=2.5 in /usr/local/lib/python3.10/dist-packages (from requests>=2.19.0->datasets>=1.13.3->pysentimiento) (3.6)\n",
            "Requirement already satisfied: urllib3<3,>=1.21.1 in /usr/local/lib/python3.10/dist-packages (from requests>=2.19.0->datasets>=1.13.3->pysentimiento) (2.0.7)\n",
            "Requirement already satisfied: certifi>=2017.4.17 in /usr/local/lib/python3.10/dist-packages (from requests>=2.19.0->datasets>=1.13.3->pysentimiento) (2023.11.17)\n",
            "Requirement already satisfied: blis<0.8.0,>=0.7.8 in /usr/local/lib/python3.10/dist-packages (from thinc<8.2.0,>=8.1.8->spacy<4.0.0,>=3.5.0->pysentimiento) (0.7.11)\n",
            "Requirement already satisfied: confection<1.0.0,>=0.0.1 in /usr/local/lib/python3.10/dist-packages (from thinc<8.2.0,>=8.1.8->spacy<4.0.0,>=3.5.0->pysentimiento) (0.1.4)\n",
            "Requirement already satisfied: click<9.0.0,>=7.1.1 in /usr/local/lib/python3.10/dist-packages (from typer<0.10.0,>=0.3.0->spacy<4.0.0,>=3.5.0->pysentimiento) (8.1.7)\n",
            "Requirement already satisfied: MarkupSafe>=2.0 in /usr/local/lib/python3.10/dist-packages (from jinja2->spacy<4.0.0,>=3.5.0->pysentimiento) (2.1.3)\n",
            "Requirement already satisfied: python-dateutil>=2.8.1 in /usr/local/lib/python3.10/dist-packages (from pandas->datasets>=1.13.3->pysentimiento) (2.8.2)\n",
            "Requirement already satisfied: pytz>=2020.1 in /usr/local/lib/python3.10/dist-packages (from pandas->datasets>=1.13.3->pysentimiento) (2023.3.post1)\n",
            "Requirement already satisfied: mpmath>=0.19 in /usr/local/lib/python3.10/dist-packages (from sympy->torch!=2.0.1,>=2.0.0->pysentimiento) (1.3.0)\n",
            "Requirement already satisfied: six>=1.5 in /usr/local/lib/python3.10/dist-packages (from python-dateutil>=2.8.1->pandas->datasets>=1.13.3->pysentimiento) (1.16.0)\n",
            "Installing collected packages: emoji\n",
            "  Attempting uninstall: emoji\n",
            "    Found existing installation: emoji 0.6.0\n",
            "    Uninstalling emoji-0.6.0:\n",
            "      Successfully uninstalled emoji-0.6.0\n",
            "Successfully installed emoji-1.7.0\n"
          ]
        }
      ]
    },
    {
      "cell_type": "code",
      "source": [
        "!pip install monkeylearn"
      ],
      "metadata": {
        "colab": {
          "base_uri": "https://localhost:8080/"
        },
        "id": "XfRjxixxjc0a",
        "outputId": "bfcbbee9-c91b-4914-dc87-325638693e42"
      },
      "execution_count": 4,
      "outputs": [
        {
          "output_type": "stream",
          "name": "stdout",
          "text": [
            "Requirement already satisfied: monkeylearn in /usr/local/lib/python3.10/dist-packages (3.6.0)\n",
            "Requirement already satisfied: requests>=2.8.1 in /usr/local/lib/python3.10/dist-packages (from monkeylearn) (2.31.0)\n",
            "Requirement already satisfied: six>=1.10.0 in /usr/local/lib/python3.10/dist-packages (from monkeylearn) (1.16.0)\n",
            "Requirement already satisfied: charset-normalizer<4,>=2 in /usr/local/lib/python3.10/dist-packages (from requests>=2.8.1->monkeylearn) (3.3.2)\n",
            "Requirement already satisfied: idna<4,>=2.5 in /usr/local/lib/python3.10/dist-packages (from requests>=2.8.1->monkeylearn) (3.6)\n",
            "Requirement already satisfied: urllib3<3,>=1.21.1 in /usr/local/lib/python3.10/dist-packages (from requests>=2.8.1->monkeylearn) (2.0.7)\n",
            "Requirement already satisfied: certifi>=2017.4.17 in /usr/local/lib/python3.10/dist-packages (from requests>=2.8.1->monkeylearn) (2023.11.17)\n"
          ]
        }
      ]
    },
    {
      "cell_type": "code",
      "source": [
        "import pandas as pd\n",
        "import pickle\n",
        "import seaborn as sns\n",
        "import matplotlib.pyplot as plt\n",
        "import scikitplot as skplt"
      ],
      "metadata": {
        "id": "gGQD7arv8DfO"
      },
      "execution_count": 6,
      "outputs": []
    },
    {
      "cell_type": "code",
      "source": [
        "from transformers import pipeline, AutoTokenizer\n",
        "from transformers import BertTokenizer, BertForSequenceClassification\n",
        "from pysentimiento import create_analyzer\n",
        "from sklearn.metrics import accuracy_score, precision_score, recall_score, f1_score, confusion_matrix, ConfusionMatrixDisplay\n",
        "from sklearn.metrics import roc_curve, auc\n",
        "\n"
      ],
      "metadata": {
        "id": "GQLPkP2X-HwQ"
      },
      "execution_count": 7,
      "outputs": []
    },
    {
      "cell_type": "markdown",
      "source": [
        "## 2.0.0 Data preparation"
      ],
      "metadata": {
        "id": "3CYxZF2c9N0L"
      }
    },
    {
      "cell_type": "markdown",
      "source": [
        "### 2.0.1 Loading a list of comments"
      ],
      "metadata": {
        "id": "BP69k8tu9KJ4"
      }
    },
    {
      "cell_type": "code",
      "execution_count": 8,
      "metadata": {
        "colab": {
          "base_uri": "https://localhost:8080/"
        },
        "id": "4BZ6FaOQ4DL4",
        "outputId": "597e9cec-5946-403b-f371-c6470bc7926e"
      },
      "outputs": [
        {
          "output_type": "execute_result",
          "data": {
            "text/plain": [
              "['<a href=\"https://www.youtube.com/watch?v=TVQgSIlN4no&amp;t=2m26s\">2:26</a> duke moment',\n",
              " 'perfect timing on an american test and an alpha kitten bullieing a runt,....',\n",
              " 'Kevin is my spirit animal',\n",
              " 'The only antidepressant ill ever need is the office…',\n",
              " 'How to pick up chicks<br>1. Grow a mustache<br>2. Say &quot;Smile if you love mens prostates&quot;',\n",
              " 'somethin about <br>&quot;the devil you know&quot;',\n",
              " 'the scene with who and whom at <a href=\"https://www.youtube.com/watch?v=TVQgSIlN4no&amp;t=5m09s\">5:09</a> was a masterpiece',\n",
              " 'Its always Creed 😂 he&#39;s one of my favorites',\n",
              " 'Michael declaring bankruptcy always kills me🤣',\n",
              " 'that SOUP skit is HILARIOUS as hell',\n",
              " 'Bro <a href=\"https://www.youtube.com/watch?v=TVQgSIlN4no&amp;t=1m28s\">1:28</a> still makes me die to this very day lmaooo',\n",
              " 'It is really weak compared to UK',\n",
              " 'The bankruptcy part might be my favorite 😂😂😂',\n",
              " 'For an &quot;office moments that make me laugh lime an idiot&quot; this video is really short!',\n",
              " 'The “gets me every time” comments get me every time.',\n",
              " 'Andy’s wall punch noises 😂',\n",
              " 'Man they’re still finding ways to repackage office clips huh',\n",
              " 'I love the moment when jim interpersonates dwight',\n",
              " '&quot;if we hire Cirque du Soleil as salaried employees will that help us with the end of the year tax stuff?&quot; gets me everytime 😂',\n",
              " 'Creed eating Ramen while everyone begins to Vomit was too funny to me.',\n",
              " '<a href=\"https://www.youtube.com/watch?v=TVQgSIlN4no&amp;t=3m15s\">3:15</a> 😭',\n",
              " 'Eyyyyyyyy ❤️',\n",
              " 'didnt even crack a smile. this show sucks',\n",
              " '<a href=\"https://www.youtube.com/watch?v=TVQgSIlN4no&amp;t=0m37s\">0:37</a> is the photographer Colin Robinson????',\n",
              " 'Phyllis&#39;s hair gets progressively darker as the seasons go by. <br>I don&#39;t have a life.',\n",
              " 'You forgot kevin’s chilli',\n",
              " 'These are the best 🤣🤣🤣🤣💯💯💯💯',\n",
              " 'It really does make me laugh 😅😂',\n",
              " 'I laugh out loud at the episode of Kelly &#39;s birthday 🤣Kelly is super cute 😆😆',\n",
              " 'Smile if you love men’s prostates is crazy lmaoo',\n",
              " 'I work in a hospital basement and we had a sewer pipe burst. I walked in and said &quot;Somebody makin soup?&quot; Nobody got it...😂',\n",
              " 'The office has been my all time favorite, but the episodes in season 5 with “Charles” CEO, were such a joy kill. <br>I couldn’t get through those and always pass over them deleting as I go. <br>Big mistake💩👎🏻',\n",
              " 'Esteban: el flooro',\n",
              " 'Anything from the last 2 seasons should be excluded from this video',\n",
              " 'RYAN STARTED THE FIRE!!!!!',\n",
              " 'Kevin was so smart he predicted the president would be a potato',\n",
              " 'We have a day honoring Martin Luther King but he didn’t even work here 🤣🤣🤣🤣😭',\n",
              " 'Toby yelling &#39;I&#39;m sorry&#39; after getting hit in the eye by a paper plane is just so... Toby 😅',\n",
              " 'This is the least funny show ever…..!',\n",
              " 'Gabbagool 🤌🏻',\n",
              " 'I just don’t find this programme funny one bit',\n",
              " 'Angela letting Andy float away and possibly die was hilarious',\n",
              " '10 2nd @ ahh thyme',\n",
              " 'Ten seconds at a time',\n",
              " 'So yeah Uhuh wes Cranky',\n",
              " 'Let’s add an n somewhere in the middle because Jewish is called nun',\n",
              " 'Feeling lonely',\n",
              " 'And yeah I’m craky',\n",
              " 'Then turn that c into a k',\n",
              " 'Then get that a and change it for a c cause sometimes it sounds the same',\n",
              " 'Trade it in for an s because it sounds so alike',\n",
              " 'How about you get the z in crazy',\n",
              " 'Yeah Lonny <br>The Halo video game<br>The Covenant level<br>That’s the name of the level<br>Halo three I believe sweetly<br>Race for the cure',\n",
              " 'Just call me a trolley<br>Not that I am but I feel<br>Like fat leprosy',\n",
              " 'That was that nerve ha<br>You ain’t bout to say a word ha',\n",
              " 'That was that nirvana<br>Hugh?',\n",
              " 'Your playing your part<br>Doing what you can<br>Trying to survive<br>Trying to maintain<br>Trying to support<br>Trying to help',\n",
              " 'You got a god complex',\n",
              " 'So study your stars<br>You know the biblical psychology of word usage<br>Your starnavigating<br>Worshipping stars<br>Trying to build life in another solar system <br>I don’t think so<br>But you think aliens exist',\n",
              " 'Your taking someone’s job<br>Your being transferred<br>Your upgrading<br>You getting a whole new audience of pea poe who don’t already know you<br>Your starting fresh<br>A new identity<br>A secret agent<br>Your being given a number and your name is being removed',\n",
              " 'Copies of copies of copies of copies. Capisce?',\n",
              " 'Just star Eminem Marshall Mathers Slim Shady as the new Michael Scott<br>I’ll take the twenty Sixt five train as creed',\n",
              " 'I am a mat like the made chaos dizzies because knowing who won doesn’t take no for an answer',\n",
              " 'I am mad like the mad cow disease because no one wants to eat the mushrooms I grow from my feces',\n",
              " 'The Office (US) (2045)<br>Created by <i>______</i><br>Starring Edel León as <i>_______</i> the boss of <i>_______</i>  a company named <i>______</i> in _______, _______.',\n",
              " 'Some psychometric stasis has it held down stuck and Jenna continues starting from it',\n",
              " 'I got to find a scene of Pam',\n",
              " 'תבל',\n",
              " 'ארקא',\n",
              " 'I feel like the Ken doll no one wants to play with anymore',\n",
              " 'ציח',\n",
              " 'The image I’m using is bold and blurry that I’m unsure if I’m getting it right',\n",
              " 'You have to add Hebrew keyboard<br>Look at it type it copy paste it',\n",
              " 'נשח',\n",
              " 'ניא',\n",
              " 'ארםה',\n",
              " 'ארץ',\n",
              " 'Throw dirt',\n",
              " 'I left a 👸🏼 emoji at some tinier than Angela white chick<br>I remember that<br>And I remember the cockroach',\n",
              " 'ח',\n",
              " 'Still feel like that line <br>😓boo😢goo😭hoo this is so frustrating',\n",
              " 'That I am thinking about myself<br>I never think about myself<br>Never<br>I never tell myself<br>Let me see what I can get out of such person',\n",
              " 'I don’t know<br>I also feel like an egotistic',\n",
              " 'Ellie I feel like the reverend when he was crying',\n",
              " 'Compared to the original….this one really blows. Not funny at all !!',\n",
              " 'Michael falling down the stairs only to fall down the stairs again.. too good 😂',\n",
              " 'The Office is one of the greatest shows ever.',\n",
              " 'Michael hitting Stanley’s car with watermelon, scissor me, and Michael chucking the frisbee on a college campus',\n",
              " 'I fell in love with this show after a couple episodes lol',\n",
              " 'I’m still enjoying it',\n",
              " 'I didnt laugh but i probably wouldve if i was watching full episodes',\n",
              " 'Real love is Stanley holding on to the newspaper article for Scott&#39;s Tot&#39;s!',\n",
              " '😂😂😂',\n",
              " '“Is that a woman’s suit?”',\n",
              " 'The energetic Stanley 🎉',\n",
              " 'Also Dwight actually rocks that pumpkin head to be honest',\n",
              " 'Michael hitting Meredith with the car actually made me laugh out loud 🤣',\n",
              " 'Believe me, when its with context its even more funny🤣🤣🤣',\n",
              " '... I dont even know where to start... I am no hater but I had just one tentative of a smile... I guess you should have watched it in 2005, and become a fan then to resonate with it now (sadly I was a kid when the show was released so I am no ignorant, just different generation...) anyways I will believe it is just not the best collage/behind the scene video therefore I still keep my respect for the show and for the actors only because I know how many people enjoyed it then so it must have been decent. maybe working in an office now in 2023 kills the fun? dont know but I won&#39;t gonna watch all seasons until I fall for it 🙃 I already want my 15 minutes back 😅 but if it made your day I am happy for you, good bye :)',\n",
              " 'Boy have you lost your mind!?!?!?!?!😂😂']"
            ]
          },
          "metadata": {},
          "execution_count": 8
        }
      ],
      "source": [
        "with open('comments_list.pkl', 'rb') as file:\n",
        "    comments = pickle.load(file)\n",
        "\n",
        "print(comments)\n"
      ]
    },
    {
      "cell_type": "markdown",
      "source": [
        "### 2.0.2 Label loading"
      ],
      "metadata": {
        "id": "fulYbqAH9Vaj"
      }
    },
    {
      "cell_type": "code",
      "source": [
        "data = pd.read_csv('Comment classification.csv', header=None, names=['Komentarz', 'Klasyfikacja'])\n",
        "data"
      ],
      "metadata": {
        "colab": {
          "base_uri": "https://localhost:8080/",
          "height": 424
        },
        "id": "aBvdBxNs8Fsm",
        "outputId": "62a5a500-e252-4ad2-96e6-9b2fe0e80d64"
      },
      "execution_count": 9,
      "outputs": [
        {
          "output_type": "execute_result",
          "data": {
            "text/plain": [
              "                                            Komentarz  Klasyfikacja\n",
              "0   <a href=\"https://www.youtube.com/watch?v=TVQgS...             0\n",
              "1   perfect timing on an american test and an alph...             0\n",
              "2                           Kevin is my spirit animal             0\n",
              "3   The only antidepressant ill ever need is the o...             0\n",
              "4   How to pick up chicks<br>1. Grow a mustache<br...             0\n",
              "..                                                ...           ...\n",
              "95  Also Dwight actually rocks that pumpkin head t...             0\n",
              "96  Michael hitting Meredith with the car actually...             1\n",
              "97  Believe me, when its with context its even mor...             0\n",
              "98  ... I dont even know where to start... I am no...            -1\n",
              "99             Boy have you lost your mind!?!?!?!?!😂😂             0\n",
              "\n",
              "[100 rows x 2 columns]"
            ],
            "text/html": [
              "\n",
              "  <div id=\"df-97a89d44-320a-4bd6-abfe-a1754ada5f31\" class=\"colab-df-container\">\n",
              "    <div>\n",
              "<style scoped>\n",
              "    .dataframe tbody tr th:only-of-type {\n",
              "        vertical-align: middle;\n",
              "    }\n",
              "\n",
              "    .dataframe tbody tr th {\n",
              "        vertical-align: top;\n",
              "    }\n",
              "\n",
              "    .dataframe thead th {\n",
              "        text-align: right;\n",
              "    }\n",
              "</style>\n",
              "<table border=\"1\" class=\"dataframe\">\n",
              "  <thead>\n",
              "    <tr style=\"text-align: right;\">\n",
              "      <th></th>\n",
              "      <th>Komentarz</th>\n",
              "      <th>Klasyfikacja</th>\n",
              "    </tr>\n",
              "  </thead>\n",
              "  <tbody>\n",
              "    <tr>\n",
              "      <th>0</th>\n",
              "      <td>&lt;a href=\"https://www.youtube.com/watch?v=TVQgS...</td>\n",
              "      <td>0</td>\n",
              "    </tr>\n",
              "    <tr>\n",
              "      <th>1</th>\n",
              "      <td>perfect timing on an american test and an alph...</td>\n",
              "      <td>0</td>\n",
              "    </tr>\n",
              "    <tr>\n",
              "      <th>2</th>\n",
              "      <td>Kevin is my spirit animal</td>\n",
              "      <td>0</td>\n",
              "    </tr>\n",
              "    <tr>\n",
              "      <th>3</th>\n",
              "      <td>The only antidepressant ill ever need is the o...</td>\n",
              "      <td>0</td>\n",
              "    </tr>\n",
              "    <tr>\n",
              "      <th>4</th>\n",
              "      <td>How to pick up chicks&lt;br&gt;1. Grow a mustache&lt;br...</td>\n",
              "      <td>0</td>\n",
              "    </tr>\n",
              "    <tr>\n",
              "      <th>...</th>\n",
              "      <td>...</td>\n",
              "      <td>...</td>\n",
              "    </tr>\n",
              "    <tr>\n",
              "      <th>95</th>\n",
              "      <td>Also Dwight actually rocks that pumpkin head t...</td>\n",
              "      <td>0</td>\n",
              "    </tr>\n",
              "    <tr>\n",
              "      <th>96</th>\n",
              "      <td>Michael hitting Meredith with the car actually...</td>\n",
              "      <td>1</td>\n",
              "    </tr>\n",
              "    <tr>\n",
              "      <th>97</th>\n",
              "      <td>Believe me, when its with context its even mor...</td>\n",
              "      <td>0</td>\n",
              "    </tr>\n",
              "    <tr>\n",
              "      <th>98</th>\n",
              "      <td>... I dont even know where to start... I am no...</td>\n",
              "      <td>-1</td>\n",
              "    </tr>\n",
              "    <tr>\n",
              "      <th>99</th>\n",
              "      <td>Boy have you lost your mind!?!?!?!?!😂😂</td>\n",
              "      <td>0</td>\n",
              "    </tr>\n",
              "  </tbody>\n",
              "</table>\n",
              "<p>100 rows × 2 columns</p>\n",
              "</div>\n",
              "    <div class=\"colab-df-buttons\">\n",
              "\n",
              "  <div class=\"colab-df-container\">\n",
              "    <button class=\"colab-df-convert\" onclick=\"convertToInteractive('df-97a89d44-320a-4bd6-abfe-a1754ada5f31')\"\n",
              "            title=\"Convert this dataframe to an interactive table.\"\n",
              "            style=\"display:none;\">\n",
              "\n",
              "  <svg xmlns=\"http://www.w3.org/2000/svg\" height=\"24px\" viewBox=\"0 -960 960 960\">\n",
              "    <path d=\"M120-120v-720h720v720H120Zm60-500h600v-160H180v160Zm220 220h160v-160H400v160Zm0 220h160v-160H400v160ZM180-400h160v-160H180v160Zm440 0h160v-160H620v160ZM180-180h160v-160H180v160Zm440 0h160v-160H620v160Z\"/>\n",
              "  </svg>\n",
              "    </button>\n",
              "\n",
              "  <style>\n",
              "    .colab-df-container {\n",
              "      display:flex;\n",
              "      gap: 12px;\n",
              "    }\n",
              "\n",
              "    .colab-df-convert {\n",
              "      background-color: #E8F0FE;\n",
              "      border: none;\n",
              "      border-radius: 50%;\n",
              "      cursor: pointer;\n",
              "      display: none;\n",
              "      fill: #1967D2;\n",
              "      height: 32px;\n",
              "      padding: 0 0 0 0;\n",
              "      width: 32px;\n",
              "    }\n",
              "\n",
              "    .colab-df-convert:hover {\n",
              "      background-color: #E2EBFA;\n",
              "      box-shadow: 0px 1px 2px rgba(60, 64, 67, 0.3), 0px 1px 3px 1px rgba(60, 64, 67, 0.15);\n",
              "      fill: #174EA6;\n",
              "    }\n",
              "\n",
              "    .colab-df-buttons div {\n",
              "      margin-bottom: 4px;\n",
              "    }\n",
              "\n",
              "    [theme=dark] .colab-df-convert {\n",
              "      background-color: #3B4455;\n",
              "      fill: #D2E3FC;\n",
              "    }\n",
              "\n",
              "    [theme=dark] .colab-df-convert:hover {\n",
              "      background-color: #434B5C;\n",
              "      box-shadow: 0px 1px 3px 1px rgba(0, 0, 0, 0.15);\n",
              "      filter: drop-shadow(0px 1px 2px rgba(0, 0, 0, 0.3));\n",
              "      fill: #FFFFFF;\n",
              "    }\n",
              "  </style>\n",
              "\n",
              "    <script>\n",
              "      const buttonEl =\n",
              "        document.querySelector('#df-97a89d44-320a-4bd6-abfe-a1754ada5f31 button.colab-df-convert');\n",
              "      buttonEl.style.display =\n",
              "        google.colab.kernel.accessAllowed ? 'block' : 'none';\n",
              "\n",
              "      async function convertToInteractive(key) {\n",
              "        const element = document.querySelector('#df-97a89d44-320a-4bd6-abfe-a1754ada5f31');\n",
              "        const dataTable =\n",
              "          await google.colab.kernel.invokeFunction('convertToInteractive',\n",
              "                                                    [key], {});\n",
              "        if (!dataTable) return;\n",
              "\n",
              "        const docLinkHtml = 'Like what you see? Visit the ' +\n",
              "          '<a target=\"_blank\" href=https://colab.research.google.com/notebooks/data_table.ipynb>data table notebook</a>'\n",
              "          + ' to learn more about interactive tables.';\n",
              "        element.innerHTML = '';\n",
              "        dataTable['output_type'] = 'display_data';\n",
              "        await google.colab.output.renderOutput(dataTable, element);\n",
              "        const docLink = document.createElement('div');\n",
              "        docLink.innerHTML = docLinkHtml;\n",
              "        element.appendChild(docLink);\n",
              "      }\n",
              "    </script>\n",
              "  </div>\n",
              "\n",
              "\n",
              "<div id=\"df-b265128e-4095-4fe9-a389-0aee05398400\">\n",
              "  <button class=\"colab-df-quickchart\" onclick=\"quickchart('df-b265128e-4095-4fe9-a389-0aee05398400')\"\n",
              "            title=\"Suggest charts\"\n",
              "            style=\"display:none;\">\n",
              "\n",
              "<svg xmlns=\"http://www.w3.org/2000/svg\" height=\"24px\"viewBox=\"0 0 24 24\"\n",
              "     width=\"24px\">\n",
              "    <g>\n",
              "        <path d=\"M19 3H5c-1.1 0-2 .9-2 2v14c0 1.1.9 2 2 2h14c1.1 0 2-.9 2-2V5c0-1.1-.9-2-2-2zM9 17H7v-7h2v7zm4 0h-2V7h2v10zm4 0h-2v-4h2v4z\"/>\n",
              "    </g>\n",
              "</svg>\n",
              "  </button>\n",
              "\n",
              "<style>\n",
              "  .colab-df-quickchart {\n",
              "      --bg-color: #E8F0FE;\n",
              "      --fill-color: #1967D2;\n",
              "      --hover-bg-color: #E2EBFA;\n",
              "      --hover-fill-color: #174EA6;\n",
              "      --disabled-fill-color: #AAA;\n",
              "      --disabled-bg-color: #DDD;\n",
              "  }\n",
              "\n",
              "  [theme=dark] .colab-df-quickchart {\n",
              "      --bg-color: #3B4455;\n",
              "      --fill-color: #D2E3FC;\n",
              "      --hover-bg-color: #434B5C;\n",
              "      --hover-fill-color: #FFFFFF;\n",
              "      --disabled-bg-color: #3B4455;\n",
              "      --disabled-fill-color: #666;\n",
              "  }\n",
              "\n",
              "  .colab-df-quickchart {\n",
              "    background-color: var(--bg-color);\n",
              "    border: none;\n",
              "    border-radius: 50%;\n",
              "    cursor: pointer;\n",
              "    display: none;\n",
              "    fill: var(--fill-color);\n",
              "    height: 32px;\n",
              "    padding: 0;\n",
              "    width: 32px;\n",
              "  }\n",
              "\n",
              "  .colab-df-quickchart:hover {\n",
              "    background-color: var(--hover-bg-color);\n",
              "    box-shadow: 0 1px 2px rgba(60, 64, 67, 0.3), 0 1px 3px 1px rgba(60, 64, 67, 0.15);\n",
              "    fill: var(--button-hover-fill-color);\n",
              "  }\n",
              "\n",
              "  .colab-df-quickchart-complete:disabled,\n",
              "  .colab-df-quickchart-complete:disabled:hover {\n",
              "    background-color: var(--disabled-bg-color);\n",
              "    fill: var(--disabled-fill-color);\n",
              "    box-shadow: none;\n",
              "  }\n",
              "\n",
              "  .colab-df-spinner {\n",
              "    border: 2px solid var(--fill-color);\n",
              "    border-color: transparent;\n",
              "    border-bottom-color: var(--fill-color);\n",
              "    animation:\n",
              "      spin 1s steps(1) infinite;\n",
              "  }\n",
              "\n",
              "  @keyframes spin {\n",
              "    0% {\n",
              "      border-color: transparent;\n",
              "      border-bottom-color: var(--fill-color);\n",
              "      border-left-color: var(--fill-color);\n",
              "    }\n",
              "    20% {\n",
              "      border-color: transparent;\n",
              "      border-left-color: var(--fill-color);\n",
              "      border-top-color: var(--fill-color);\n",
              "    }\n",
              "    30% {\n",
              "      border-color: transparent;\n",
              "      border-left-color: var(--fill-color);\n",
              "      border-top-color: var(--fill-color);\n",
              "      border-right-color: var(--fill-color);\n",
              "    }\n",
              "    40% {\n",
              "      border-color: transparent;\n",
              "      border-right-color: var(--fill-color);\n",
              "      border-top-color: var(--fill-color);\n",
              "    }\n",
              "    60% {\n",
              "      border-color: transparent;\n",
              "      border-right-color: var(--fill-color);\n",
              "    }\n",
              "    80% {\n",
              "      border-color: transparent;\n",
              "      border-right-color: var(--fill-color);\n",
              "      border-bottom-color: var(--fill-color);\n",
              "    }\n",
              "    90% {\n",
              "      border-color: transparent;\n",
              "      border-bottom-color: var(--fill-color);\n",
              "    }\n",
              "  }\n",
              "</style>\n",
              "\n",
              "  <script>\n",
              "    async function quickchart(key) {\n",
              "      const quickchartButtonEl =\n",
              "        document.querySelector('#' + key + ' button');\n",
              "      quickchartButtonEl.disabled = true;  // To prevent multiple clicks.\n",
              "      quickchartButtonEl.classList.add('colab-df-spinner');\n",
              "      try {\n",
              "        const charts = await google.colab.kernel.invokeFunction(\n",
              "            'suggestCharts', [key], {});\n",
              "      } catch (error) {\n",
              "        console.error('Error during call to suggestCharts:', error);\n",
              "      }\n",
              "      quickchartButtonEl.classList.remove('colab-df-spinner');\n",
              "      quickchartButtonEl.classList.add('colab-df-quickchart-complete');\n",
              "    }\n",
              "    (() => {\n",
              "      let quickchartButtonEl =\n",
              "        document.querySelector('#df-b265128e-4095-4fe9-a389-0aee05398400 button');\n",
              "      quickchartButtonEl.style.display =\n",
              "        google.colab.kernel.accessAllowed ? 'block' : 'none';\n",
              "    })();\n",
              "  </script>\n",
              "</div>\n",
              "    </div>\n",
              "  </div>\n"
            ]
          },
          "metadata": {},
          "execution_count": 9
        }
      ]
    },
    {
      "cell_type": "code",
      "source": [
        "classification_list = data['Klasyfikacja'].tolist()\n",
        "print(classification_list)\n"
      ],
      "metadata": {
        "colab": {
          "base_uri": "https://localhost:8080/"
        },
        "id": "jbGp7REO8i0R",
        "outputId": "64fce9f7-268f-4df2-abd0-e589635c4d1c"
      },
      "execution_count": 10,
      "outputs": [
        {
          "output_type": "stream",
          "name": "stdout",
          "text": [
            "[0, 0, 0, 0, 0, 0, 1, 0, 0, 1, 0, -1, 0, 0, 1, 0, 0, 1, 0, 1, 0, 0, -1, 0, 0, 0, 1, 1, 1, 0, 0, -1, 0, -1, 0, 0, 0, 0, -1, 0, -1, 1, 0, 0, 0, 0, -1, 0, 0, 0, 0, 0, 0, 0, 0, 0, 0, 0, 0, 0, 0, 0, 0, 0, 0, 0, 0, 0, 0, 0, 0, 0, 0, 0, 0, 0, 0, 0, 0, 0, 0, 0, 0, 0, -1, 0, 1, 0, 1, 1, 0, 0, 0, 0, 0, 0, 1, 0, -1, 0]\n"
          ]
        }
      ]
    },
    {
      "cell_type": "markdown",
      "source": [
        "## 3.0.0 Downloading models from huggingface"
      ],
      "metadata": {
        "id": "vjQn6E7A95rp"
      }
    },
    {
      "cell_type": "markdown",
      "source": [
        "### 3.0.1 ProsusAI/finbert"
      ],
      "metadata": {
        "id": "sOlaHI17-Rnk"
      }
    },
    {
      "cell_type": "code",
      "source": [
        "finbert = pipeline(\"text-classification\", model = \"ProsusAI/finbert\")"
      ],
      "metadata": {
        "id": "0OGI8SVB9_qd"
      },
      "execution_count": 11,
      "outputs": []
    },
    {
      "cell_type": "code",
      "source": [
        "finbert('I love you')"
      ],
      "metadata": {
        "colab": {
          "base_uri": "https://localhost:8080/"
        },
        "id": "VIaiC6y2AaWK",
        "outputId": "b3f77f11-3a90-44a4-b391-4c098773398f"
      },
      "execution_count": 12,
      "outputs": [
        {
          "output_type": "execute_result",
          "data": {
            "text/plain": [
              "[{'label': 'neutral', 'score': 0.863226056098938}]"
            ]
          },
          "metadata": {},
          "execution_count": 12
        }
      ]
    },
    {
      "cell_type": "markdown",
      "source": [
        "### 3.0.2 lxyuan/distilbert-base-multilingual-cased-sentiments-student"
      ],
      "metadata": {
        "id": "rDnpHXJ_-eZb"
      }
    },
    {
      "cell_type": "code",
      "source": [
        "distilled_student_sentiment_classifier = pipeline(\"text-classification\", model=\"lxyuan/distilbert-base-multilingual-cased-sentiments-student\")"
      ],
      "metadata": {
        "id": "dYFeGWAz-i62"
      },
      "execution_count": 13,
      "outputs": []
    },
    {
      "cell_type": "code",
      "source": [
        "distilled_student_sentiment_classifier('I love you')"
      ],
      "metadata": {
        "colab": {
          "base_uri": "https://localhost:8080/"
        },
        "id": "AvzXzB-PAk77",
        "outputId": "aaa150a2-db83-4b1a-9c29-23beb1243280"
      },
      "execution_count": 14,
      "outputs": [
        {
          "output_type": "execute_result",
          "data": {
            "text/plain": [
              "[{'label': 'positive', 'score': 0.969622790813446}]"
            ]
          },
          "metadata": {},
          "execution_count": 14
        }
      ]
    },
    {
      "cell_type": "markdown",
      "source": [
        "### 3.0.3 finiteautomata/bertweet-base-sentiment-analysis"
      ],
      "metadata": {
        "id": "TWUc1Xqv-2I-"
      }
    },
    {
      "cell_type": "code",
      "source": [
        "bertweet_base_sentiment_analysis = pipeline(\"text-classification\", model = \"finiteautomata/bertweet-base-sentiment-analysis\")"
      ],
      "metadata": {
        "id": "mhBSDVZu-3d_"
      },
      "execution_count": 15,
      "outputs": []
    },
    {
      "cell_type": "code",
      "source": [
        "bertweet_base_sentiment_analysis('I love you')"
      ],
      "metadata": {
        "colab": {
          "base_uri": "https://localhost:8080/"
        },
        "id": "ZZ2WXGld_9wd",
        "outputId": "feef01ab-5c88-4be9-eb29-401274525163"
      },
      "execution_count": 16,
      "outputs": [
        {
          "output_type": "execute_result",
          "data": {
            "text/plain": [
              "[{'label': 'POS', 'score': 0.9916695356369019}]"
            ]
          },
          "metadata": {},
          "execution_count": 16
        }
      ]
    },
    {
      "cell_type": "markdown",
      "source": [
        "### 3.0.4 ahmedrachid/FinancialBERT-Sentiment-Analysis"
      ],
      "metadata": {
        "id": "ZWDpXTey_O3U"
      }
    },
    {
      "cell_type": "code",
      "source": [
        "financia_BERT_sentiment_analysis =  pipeline(\"text-classification\", model = \"ahmedrachid/FinancialBERT-Sentiment-Analysis\")"
      ],
      "metadata": {
        "id": "sViIZ59Q_QnW"
      },
      "execution_count": 17,
      "outputs": []
    },
    {
      "cell_type": "code",
      "source": [
        "financia_BERT_sentiment_analysis('I love you')"
      ],
      "metadata": {
        "colab": {
          "base_uri": "https://localhost:8080/"
        },
        "id": "irkf5jv3AGHJ",
        "outputId": "4c872a1a-eb0e-42f5-e1fa-9434f097872e"
      },
      "execution_count": 18,
      "outputs": [
        {
          "output_type": "execute_result",
          "data": {
            "text/plain": [
              "[{'label': 'neutral', 'score': 0.9955910444259644}]"
            ]
          },
          "metadata": {},
          "execution_count": 18
        }
      ]
    },
    {
      "cell_type": "markdown",
      "source": [
        "## 4.0.0 Evaluation of models"
      ],
      "metadata": {
        "id": "I0PfAR1VCGIu"
      }
    },
    {
      "cell_type": "code",
      "source": [
        "def metrics(labels, scores):\n",
        "  accuracy = accuracy_score(labels, sentiment_scores)\n",
        "  precision = precision_score(labels, sentiment_scores, average='weighted', zero_division=1)\n",
        "  recall = recall_score(labels, sentiment_scores, average='weighted', zero_division=1)\n",
        "  f1 = f1_score(labels, sentiment_scores, average='weighted', zero_division=1)\n",
        "  conf_matrix = confusion_matrix(labels, sentiment_scores)\n",
        "\n",
        "  print(f\"Accuracy: {accuracy}\")\n",
        "  print(f\"Precision: {precision}\")\n",
        "  print(f\"Recall: {recall}\")\n",
        "  print(f\"F1 Score: {f1}\")"
      ],
      "metadata": {
        "id": "Lc3U-JT12pzE"
      },
      "execution_count": 28,
      "outputs": []
    },
    {
      "cell_type": "code",
      "source": [
        "def matrix_confusion(labels, scores):\n",
        "  conf_matrix = confusion_matrix(labels, sentiment_scores)\n",
        "  classes = [\"Negative\", \"Neutral\", \"Positive\"]\n",
        "\n",
        "  disp = ConfusionMatrixDisplay(confusion_matrix=conf_matrix, display_labels=classes)\n",
        "  disp.plot(cmap='Blues', values_format='d')\n",
        "  confusion_matrix(labels, sentiment_scores)"
      ],
      "metadata": {
        "id": "92MLV_3s3Dr3"
      },
      "execution_count": 31,
      "outputs": []
    },
    {
      "cell_type": "markdown",
      "source": [
        "### 4.0.1 ProsusAI/finbert"
      ],
      "metadata": {
        "id": "FBannqshCen5"
      }
    },
    {
      "cell_type": "code",
      "source": [
        "tokenizer = AutoTokenizer.from_pretrained(\"ProsusAI/finbert\")"
      ],
      "metadata": {
        "id": "WqGO6LYoCI1f"
      },
      "execution_count": 21,
      "outputs": []
    },
    {
      "cell_type": "code",
      "source": [
        "sentiment_scores = []\n",
        "labels = classification_list\n",
        "\n",
        "for comment in comments:\n",
        "    tokens = tokenizer.encode(comment, add_special_tokens=True)\n",
        "    if len(tokens) < 512:\n",
        "        result = finbert(comment)\n",
        "        label = result[0]['label']\n",
        "\n",
        "        if label == 'negative':\n",
        "            score = -1\n",
        "        elif label == 'neutral':\n",
        "            score = 0\n",
        "        elif label == 'positive':\n",
        "            score = 1\n",
        "        else:\n",
        "            score = None\n",
        "\n",
        "        sentiment_scores.append(score)\n",
        "    else:\n",
        "        index_to_remove = comments.index(comment)\n",
        "        del labels[index_to_remove]\n"
      ],
      "metadata": {
        "id": "plEi32fgzwcc"
      },
      "execution_count": 22,
      "outputs": []
    },
    {
      "cell_type": "code",
      "source": [
        "metrics(labels, sentiment_scores)"
      ],
      "metadata": {
        "colab": {
          "base_uri": "https://localhost:8080/"
        },
        "id": "Vcqf5InE2-nu",
        "outputId": "299c6dee-6c08-4fd8-f978-04a7d6df9724"
      },
      "execution_count": 30,
      "outputs": [
        {
          "output_type": "stream",
          "name": "stdout",
          "text": [
            "Accuracy: 0.73\n",
            "Precision: 0.7686108273748722\n",
            "Recall: 0.73\n",
            "F1 Score: 0.6812335329341317\n"
          ]
        }
      ]
    },
    {
      "cell_type": "code",
      "source": [
        "matrix_confusion(labels, sentiment_scores)"
      ],
      "metadata": {
        "colab": {
          "base_uri": "https://localhost:8080/",
          "height": 450
        },
        "id": "yR8hFqkO4jSV",
        "outputId": "4d953f26-bdac-4bce-ed97-b4fb2be27b4b"
      },
      "execution_count": 32,
      "outputs": [
        {
          "output_type": "display_data",
          "data": {
            "text/plain": [
              "<Figure size 640x480 with 2 Axes>"
            ],
            "image/png": "[encoded data removed]"
          },
          "metadata": {}
        }
      ]
    },
    {
      "cell_type": "markdown",
      "source": [
        "### 4.0.2 lxyuan"
      ],
      "metadata": {
        "id": "qgWBvfO0Fhr6"
      }
    },
    {
      "cell_type": "code",
      "source": [
        "sentiment_scores = []\n",
        "\n",
        "for comment in comments:\n",
        "      result = distilled_student_sentiment_classifier(comment)\n",
        "      label = result[0]['label']\n",
        "\n",
        "      if label == 'negative':\n",
        "          score = -1\n",
        "      elif label == 'neutral':\n",
        "          score = 0\n",
        "      elif label == 'positive':\n",
        "          score = 1\n",
        "      else:\n",
        "          score = None\n",
        "\n",
        "      sentiment_scores.append(score)\n",
        "\n"
      ],
      "metadata": {
        "id": "-25SE7MzFjI1"
      },
      "execution_count": 35,
      "outputs": []
    },
    {
      "cell_type": "code",
      "source": [
        "metrics(classification_list, sentiment_scores)"
      ],
      "metadata": {
        "colab": {
          "base_uri": "https://localhost:8080/"
        },
        "id": "aDPT0Gao5MpA",
        "outputId": "953be181-c6d3-4916-ce3b-115fec76dada"
      },
      "execution_count": 36,
      "outputs": [
        {
          "output_type": "stream",
          "name": "stdout",
          "text": [
            "Accuracy: 0.17\n",
            "Precision: 0.42619450317124735\n",
            "Recall: 0.17\n",
            "F1 Score: 0.07850452488687784\n"
          ]
        }
      ]
    },
    {
      "cell_type": "code",
      "source": [
        "matrix_confusion(classification_list, sentiment_scores)"
      ],
      "metadata": {
        "colab": {
          "base_uri": "https://localhost:8080/",
          "height": 449
        },
        "id": "-I8JnCH_5Nuq",
        "outputId": "5ab1e5ab-a98e-4349-a91a-64054ed3a394"
      },
      "execution_count": 37,
      "outputs": [
        {
          "output_type": "display_data",
          "data": {
            "text/plain": [
              "<Figure size 640x480 with 2 Axes>"
            ],
            "image/png": "[encoded data removed]"
          },
          "metadata": {}
        }
      ]
    },
    {
      "cell_type": "markdown",
      "source": [
        "### 4.0.3 finiteautomata"
      ],
      "metadata": {
        "id": "-_9IkSEWGAtQ"
      }
    },
    {
      "cell_type": "code",
      "source": [
        "tokenizer = AutoTokenizer.from_pretrained(\"finiteautomata/bertweet-base-sentiment-analysis\")"
      ],
      "metadata": {
        "id": "C5sXIS326ToN"
      },
      "execution_count": 43,
      "outputs": []
    },
    {
      "cell_type": "code",
      "source": [
        "sentiment_scores = []\n",
        "updated_labels = []\n",
        "\n",
        "for comment in comments:\n",
        "    tokens = tokenizer.encode(comment, add_special_tokens=True)\n",
        "    if len(tokens) < 100:\n",
        "        result = bertweet_base_sentiment_analysis(comment)\n",
        "        label = result[0]['label']\n",
        "\n",
        "        if label == 'NEG':\n",
        "            score = -1\n",
        "        elif label == 'NEU':\n",
        "            score = 0\n",
        "        elif label == 'POS':\n",
        "            score = 1\n",
        "        else:\n",
        "            score = None\n",
        "\n",
        "        sentiment_scores.append(score)\n",
        "        updated_labels.append(labels[len(sentiment_scores) - 1])\n",
        "\n",
        "sentiment_scores, labels = zip(*[(score, label) for score, label in zip(sentiment_scores, updated_labels) if score is not None])\n"
      ],
      "metadata": {
        "id": "FG9eqSAzGB9O"
      },
      "execution_count": 73,
      "outputs": []
    },
    {
      "cell_type": "code",
      "source": [
        "metrics(labels, sentiment_scores)"
      ],
      "metadata": {
        "id": "tB_tiKmeGDXK",
        "colab": {
          "base_uri": "https://localhost:8080/"
        },
        "outputId": "87429fd5-884a-43ce-be6f-75841b57b3f8"
      },
      "execution_count": 74,
      "outputs": [
        {
          "output_type": "stream",
          "name": "stdout",
          "text": [
            "Accuracy: 0.46464646464646464\n",
            "Precision: 0.6480352683561239\n",
            "Recall: 0.46464646464646464\n",
            "F1 Score: 0.528128263285582\n"
          ]
        }
      ]
    },
    {
      "cell_type": "code",
      "source": [
        "matrix_confusion(labels, sentiment_scores)"
      ],
      "metadata": {
        "id": "upeyyRhUGEHY",
        "colab": {
          "base_uri": "https://localhost:8080/",
          "height": 455
        },
        "outputId": "bd4e1d11-b2ac-4030-8bff-dce75785ab12"
      },
      "execution_count": 75,
      "outputs": [
        {
          "output_type": "display_data",
          "data": {
            "text/plain": [
              "<Figure size 640x480 with 2 Axes>"
            ],
            "image/png": "[encoded data removed]"
          },
          "metadata": {}
        }
      ]
    },
    {
      "cell_type": "markdown",
      "source": [
        "### 4.0.4 ahmedrachid"
      ],
      "metadata": {
        "id": "Y6wMscAYGjm9"
      }
    },
    {
      "cell_type": "code",
      "source": [
        "sentiment_scores = []\n",
        "\n",
        "for comment in comments:\n",
        "      result = financia_BERT_sentiment_analysis(comment)\n",
        "      label = result[0]['label']\n",
        "\n",
        "      if label == 'negative':\n",
        "          score = -1\n",
        "      elif label == 'neutral':\n",
        "          score = 0\n",
        "      elif label == 'positive':\n",
        "          score = 1\n",
        "      else:\n",
        "          score = None\n",
        "\n",
        "      sentiment_scores.append(score)\n",
        "\n"
      ],
      "metadata": {
        "id": "8SzAgRX0GlIX"
      },
      "execution_count": 39,
      "outputs": []
    },
    {
      "cell_type": "code",
      "source": [
        "metrics(classification_list, sentiment_scores)"
      ],
      "metadata": {
        "id": "tTzaUi8cGnuQ",
        "colab": {
          "base_uri": "https://localhost:8080/"
        },
        "outputId": "6d240cf4-2cb5-45cc-a9e8-3fda1f3fe1b1"
      },
      "execution_count": 40,
      "outputs": [
        {
          "output_type": "stream",
          "name": "stdout",
          "text": [
            "Accuracy: 0.77\n",
            "Precision: 0.7682894736842105\n",
            "Recall: 0.77\n",
            "F1 Score: 0.7087181604522645\n"
          ]
        }
      ]
    },
    {
      "cell_type": "code",
      "source": [
        "matrix_confusion(classification_list, sentiment_scores)"
      ],
      "metadata": {
        "colab": {
          "base_uri": "https://localhost:8080/",
          "height": 449
        },
        "id": "dgMq0yS6Go50",
        "outputId": "a6f14851-5365-4a88-a6c9-27379eb0570a"
      },
      "execution_count": 41,
      "outputs": [
        {
          "output_type": "display_data",
          "data": {
            "text/plain": [
              "<Figure size 640x480 with 2 Axes>"
            ],
            "image/png": "[encoded data removed]"
          },
          "metadata": {}
        }
      ]
    }
  ]
}