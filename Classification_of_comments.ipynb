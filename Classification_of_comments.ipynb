{
  "nbformat": 4,
  "nbformat_minor": 0,
  "metadata": {
    "colab": {
      "provenance": [],
      "authorship_tag": "ABX9TyMyrbgEotEl8btZ+p6B548s",
      "include_colab_link": true
    },
    "kernelspec": {
      "name": "python3",
      "display_name": "Python 3"
    },
    "language_info": {
      "name": "python"
    }
  },
  "cells": [
    {
      "cell_type": "markdown",
      "metadata": {
        "id": "view-in-github",
        "colab_type": "text"
      },
      "source": [
        "<a href=\"https://colab.research.google.com/github/szymonszczurowski/Sentiment-Analysis-of-YouTube-Comments/blob/colab/Classification_of_comments.ipynb\" target=\"_parent\"><img src=\"https://colab.research.google.com/assets/colab-badge.svg\" alt=\"Open In Colab\"/></a>"
      ]
    },
    {
      "cell_type": "markdown",
      "source": [],
      "metadata": {
        "id": "GCvoy0wQTDmO"
      }
    },
    {
      "cell_type": "markdown",
      "source": [],
      "metadata": {
        "id": "UT2Na8U6TE6H"
      }
    },
    {
      "cell_type": "markdown",
      "source": [
        "# Classification of comments"
      ],
      "metadata": {
        "id": "2jLC22jCTGAr"
      }
    },
    {
      "cell_type": "code",
      "source": [],
      "metadata": {
        "id": "5BvXL-rGTIgk"
      },
      "execution_count": null,
      "outputs": []
    }
  ]
}