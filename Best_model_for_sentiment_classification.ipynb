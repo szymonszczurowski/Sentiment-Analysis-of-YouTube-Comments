{
  "nbformat": 4,
  "nbformat_minor": 0,
  "metadata": {
    "colab": {
      "provenance": [],
      "toc_visible": true,
      "authorship_tag": "ABX9TyOF3WP7ThT9cxG7pJGhdUd9",
      "include_colab_link": true
    },
    "kernelspec": {
      "name": "python3",
      "display_name": "Python 3"
    },
    "language_info": {
      "name": "python"
    }
  },
  "cells": [
    {
      "cell_type": "markdown",
      "metadata": {
        "id": "view-in-github",
        "colab_type": "text"
      },
      "source": [
        "<a href=\"https://colab.research.google.com/github/szymonszczurowski/Sentiment-Analysis-of-YouTube-Comments/blob/colab/Best_model_for_sentiment_classification.ipynb\" target=\"_parent\"><img src=\"https://colab.research.google.com/assets/colab-badge.svg\" alt=\"Open In Colab\"/></a>"
      ]
    },
    {
      "cell_type": "markdown",
      "source": [
        "# Selecting the best model for sentiment classification"
      ],
      "metadata": {
        "id": "0ZiRoRuS84oG"
      }
    },
    {
      "cell_type": "markdown",
      "source": [
        "## 1.0.0 Importing Libraries and Packages"
      ],
      "metadata": {
        "id": "jQzyE6iS88nZ"
      }
    },
    {
      "cell_type": "code",
      "source": [
        "!pip3 install emoji==1.6.1"
      ],
      "metadata": {
        "colab": {
          "base_uri": "https://localhost:8080/"
        },
        "id": "S_LTN5c2_vZQ",
        "outputId": "69fdffcb-6cfd-4b42-a763-0d5a82262cb9"
      },
      "execution_count": 1,
      "outputs": [
        {
          "output_type": "stream",
          "name": "stdout",
          "text": [
            "Requirement already satisfied: emoji==1.6.1 in /usr/local/lib/python3.10/dist-packages (1.6.1)\n"
          ]
        }
      ]
    },
    {
      "cell_type": "code",
      "source": [
        "!pip install transformers"
      ],
      "metadata": {
        "colab": {
          "base_uri": "https://localhost:8080/"
        },
        "id": "p8OB7xOL_yYZ",
        "outputId": "d85d7ecc-db4b-4c1b-acab-6443572e9b92"
      },
      "execution_count": 2,
      "outputs": [
        {
          "output_type": "stream",
          "name": "stdout",
          "text": [
            "Requirement already satisfied: transformers in /usr/local/lib/python3.10/dist-packages (4.35.2)\n",
            "Requirement already satisfied: filelock in /usr/local/lib/python3.10/dist-packages (from transformers) (3.13.1)\n",
            "Requirement already satisfied: huggingface-hub<1.0,>=0.16.4 in /usr/local/lib/python3.10/dist-packages (from transformers) (0.20.2)\n",
            "Requirement already satisfied: numpy>=1.17 in /usr/local/lib/python3.10/dist-packages (from transformers) (1.23.5)\n",
            "Requirement already satisfied: packaging>=20.0 in /usr/local/lib/python3.10/dist-packages (from transformers) (23.2)\n",
            "Requirement already satisfied: pyyaml>=5.1 in /usr/local/lib/python3.10/dist-packages (from transformers) (6.0.1)\n",
            "Requirement already satisfied: regex!=2019.12.17 in /usr/local/lib/python3.10/dist-packages (from transformers) (2023.6.3)\n",
            "Requirement already satisfied: requests in /usr/local/lib/python3.10/dist-packages (from transformers) (2.31.0)\n",
            "Requirement already satisfied: tokenizers<0.19,>=0.14 in /usr/local/lib/python3.10/dist-packages (from transformers) (0.15.0)\n",
            "Requirement already satisfied: safetensors>=0.3.1 in /usr/local/lib/python3.10/dist-packages (from transformers) (0.4.1)\n",
            "Requirement already satisfied: tqdm>=4.27 in /usr/local/lib/python3.10/dist-packages (from transformers) (4.66.1)\n",
            "Requirement already satisfied: fsspec>=2023.5.0 in /usr/local/lib/python3.10/dist-packages (from huggingface-hub<1.0,>=0.16.4->transformers) (2023.6.0)\n",
            "Requirement already satisfied: typing-extensions>=3.7.4.3 in /usr/local/lib/python3.10/dist-packages (from huggingface-hub<1.0,>=0.16.4->transformers) (4.5.0)\n",
            "Requirement already satisfied: charset-normalizer<4,>=2 in /usr/local/lib/python3.10/dist-packages (from requests->transformers) (3.3.2)\n",
            "Requirement already satisfied: idna<4,>=2.5 in /usr/local/lib/python3.10/dist-packages (from requests->transformers) (3.6)\n",
            "Requirement already satisfied: urllib3<3,>=1.21.1 in /usr/local/lib/python3.10/dist-packages (from requests->transformers) (2.0.7)\n",
            "Requirement already satisfied: certifi>=2017.4.17 in /usr/local/lib/python3.10/dist-packages (from requests->transformers) (2023.11.17)\n"
          ]
        }
      ]
    },
    {
      "cell_type": "code",
      "source": [
        "!pip install pysentimiento"
      ],
      "metadata": {
        "colab": {
          "base_uri": "https://localhost:8080/"
        },
        "id": "vxoW2QZI_4oe",
        "outputId": "3b3723e8-7fb7-43df-df70-62ef600910a5"
      },
      "execution_count": 3,
      "outputs": [
        {
          "output_type": "stream",
          "name": "stdout",
          "text": [
            "Requirement already satisfied: pysentimiento in /usr/local/lib/python3.10/dist-packages (0.7.2)\n",
            "Requirement already satisfied: accelerate<0.23.0,>=0.22.0 in /usr/local/lib/python3.10/dist-packages (from pysentimiento) (0.22.0)\n",
            "Requirement already satisfied: datasets>=1.13.3 in /usr/local/lib/python3.10/dist-packages (from pysentimiento) (2.16.1)\n",
            "Requirement already satisfied: emoji<2.0.0,>=1.6.1 in /usr/local/lib/python3.10/dist-packages (from pysentimiento) (1.6.1)\n",
            "Requirement already satisfied: spacy<4.0.0,>=3.5.0 in /usr/local/lib/python3.10/dist-packages (from pysentimiento) (3.6.1)\n",
            "Requirement already satisfied: torch!=2.0.1,>=2.0.0 in /usr/local/lib/python3.10/dist-packages (from pysentimiento) (2.1.0+cu121)\n",
            "Requirement already satisfied: transformers>=4.13.0 in /usr/local/lib/python3.10/dist-packages (from pysentimiento) (4.35.2)\n",
            "Requirement already satisfied: numpy>=1.17 in /usr/local/lib/python3.10/dist-packages (from accelerate<0.23.0,>=0.22.0->pysentimiento) (1.23.5)\n",
            "Requirement already satisfied: packaging>=20.0 in /usr/local/lib/python3.10/dist-packages (from accelerate<0.23.0,>=0.22.0->pysentimiento) (23.2)\n",
            "Requirement already satisfied: psutil in /usr/local/lib/python3.10/dist-packages (from accelerate<0.23.0,>=0.22.0->pysentimiento) (5.9.5)\n",
            "Requirement already satisfied: pyyaml in /usr/local/lib/python3.10/dist-packages (from accelerate<0.23.0,>=0.22.0->pysentimiento) (6.0.1)\n",
            "Requirement already satisfied: filelock in /usr/local/lib/python3.10/dist-packages (from datasets>=1.13.3->pysentimiento) (3.13.1)\n",
            "Requirement already satisfied: pyarrow>=8.0.0 in /usr/local/lib/python3.10/dist-packages (from datasets>=1.13.3->pysentimiento) (10.0.1)\n",
            "Requirement already satisfied: pyarrow-hotfix in /usr/local/lib/python3.10/dist-packages (from datasets>=1.13.3->pysentimiento) (0.6)\n",
            "Requirement already satisfied: dill<0.3.8,>=0.3.0 in /usr/local/lib/python3.10/dist-packages (from datasets>=1.13.3->pysentimiento) (0.3.7)\n",
            "Requirement already satisfied: pandas in /usr/local/lib/python3.10/dist-packages (from datasets>=1.13.3->pysentimiento) (1.5.3)\n",
            "Requirement already satisfied: requests>=2.19.0 in /usr/local/lib/python3.10/dist-packages (from datasets>=1.13.3->pysentimiento) (2.31.0)\n",
            "Requirement already satisfied: tqdm>=4.62.1 in /usr/local/lib/python3.10/dist-packages (from datasets>=1.13.3->pysentimiento) (4.66.1)\n",
            "Requirement already satisfied: xxhash in /usr/local/lib/python3.10/dist-packages (from datasets>=1.13.3->pysentimiento) (3.4.1)\n",
            "Requirement already satisfied: multiprocess in /usr/local/lib/python3.10/dist-packages (from datasets>=1.13.3->pysentimiento) (0.70.15)\n",
            "Requirement already satisfied: fsspec[http]<=2023.10.0,>=2023.1.0 in /usr/local/lib/python3.10/dist-packages (from datasets>=1.13.3->pysentimiento) (2023.6.0)\n",
            "Requirement already satisfied: aiohttp in /usr/local/lib/python3.10/dist-packages (from datasets>=1.13.3->pysentimiento) (3.9.1)\n",
            "Requirement already satisfied: huggingface-hub>=0.19.4 in /usr/local/lib/python3.10/dist-packages (from datasets>=1.13.3->pysentimiento) (0.20.2)\n",
            "Requirement already satisfied: spacy-legacy<3.1.0,>=3.0.11 in /usr/local/lib/python3.10/dist-packages (from spacy<4.0.0,>=3.5.0->pysentimiento) (3.0.12)\n",
            "Requirement already satisfied: spacy-loggers<2.0.0,>=1.0.0 in /usr/local/lib/python3.10/dist-packages (from spacy<4.0.0,>=3.5.0->pysentimiento) (1.0.5)\n",
            "Requirement already satisfied: murmurhash<1.1.0,>=0.28.0 in /usr/local/lib/python3.10/dist-packages (from spacy<4.0.0,>=3.5.0->pysentimiento) (1.0.10)\n",
            "Requirement already satisfied: cymem<2.1.0,>=2.0.2 in /usr/local/lib/python3.10/dist-packages (from spacy<4.0.0,>=3.5.0->pysentimiento) (2.0.8)\n",
            "Requirement already satisfied: preshed<3.1.0,>=3.0.2 in /usr/local/lib/python3.10/dist-packages (from spacy<4.0.0,>=3.5.0->pysentimiento) (3.0.9)\n",
            "Requirement already satisfied: thinc<8.2.0,>=8.1.8 in /usr/local/lib/python3.10/dist-packages (from spacy<4.0.0,>=3.5.0->pysentimiento) (8.1.12)\n",
            "Requirement already satisfied: wasabi<1.2.0,>=0.9.1 in /usr/local/lib/python3.10/dist-packages (from spacy<4.0.0,>=3.5.0->pysentimiento) (1.1.2)\n",
            "Requirement already satisfied: srsly<3.0.0,>=2.4.3 in /usr/local/lib/python3.10/dist-packages (from spacy<4.0.0,>=3.5.0->pysentimiento) (2.4.8)\n",
            "Requirement already satisfied: catalogue<2.1.0,>=2.0.6 in /usr/local/lib/python3.10/dist-packages (from spacy<4.0.0,>=3.5.0->pysentimiento) (2.0.10)\n",
            "Requirement already satisfied: typer<0.10.0,>=0.3.0 in /usr/local/lib/python3.10/dist-packages (from spacy<4.0.0,>=3.5.0->pysentimiento) (0.9.0)\n",
            "Requirement already satisfied: pathy>=0.10.0 in /usr/local/lib/python3.10/dist-packages (from spacy<4.0.0,>=3.5.0->pysentimiento) (0.10.3)\n",
            "Requirement already satisfied: smart-open<7.0.0,>=5.2.1 in /usr/local/lib/python3.10/dist-packages (from spacy<4.0.0,>=3.5.0->pysentimiento) (6.4.0)\n",
            "Requirement already satisfied: pydantic!=1.8,!=1.8.1,<3.0.0,>=1.7.4 in /usr/local/lib/python3.10/dist-packages (from spacy<4.0.0,>=3.5.0->pysentimiento) (1.10.13)\n",
            "Requirement already satisfied: jinja2 in /usr/local/lib/python3.10/dist-packages (from spacy<4.0.0,>=3.5.0->pysentimiento) (3.1.2)\n",
            "Requirement already satisfied: setuptools in /usr/local/lib/python3.10/dist-packages (from spacy<4.0.0,>=3.5.0->pysentimiento) (67.7.2)\n",
            "Requirement already satisfied: langcodes<4.0.0,>=3.2.0 in /usr/local/lib/python3.10/dist-packages (from spacy<4.0.0,>=3.5.0->pysentimiento) (3.3.0)\n",
            "Requirement already satisfied: typing-extensions in /usr/local/lib/python3.10/dist-packages (from torch!=2.0.1,>=2.0.0->pysentimiento) (4.5.0)\n",
            "Requirement already satisfied: sympy in /usr/local/lib/python3.10/dist-packages (from torch!=2.0.1,>=2.0.0->pysentimiento) (1.12)\n",
            "Requirement already satisfied: networkx in /usr/local/lib/python3.10/dist-packages (from torch!=2.0.1,>=2.0.0->pysentimiento) (3.2.1)\n",
            "Requirement already satisfied: triton==2.1.0 in /usr/local/lib/python3.10/dist-packages (from torch!=2.0.1,>=2.0.0->pysentimiento) (2.1.0)\n",
            "Requirement already satisfied: regex!=2019.12.17 in /usr/local/lib/python3.10/dist-packages (from transformers>=4.13.0->pysentimiento) (2023.6.3)\n",
            "Requirement already satisfied: tokenizers<0.19,>=0.14 in /usr/local/lib/python3.10/dist-packages (from transformers>=4.13.0->pysentimiento) (0.15.0)\n",
            "Requirement already satisfied: safetensors>=0.3.1 in /usr/local/lib/python3.10/dist-packages (from transformers>=4.13.0->pysentimiento) (0.4.1)\n",
            "Requirement already satisfied: attrs>=17.3.0 in /usr/local/lib/python3.10/dist-packages (from aiohttp->datasets>=1.13.3->pysentimiento) (23.2.0)\n",
            "Requirement already satisfied: multidict<7.0,>=4.5 in /usr/local/lib/python3.10/dist-packages (from aiohttp->datasets>=1.13.3->pysentimiento) (6.0.4)\n",
            "Requirement already satisfied: yarl<2.0,>=1.0 in /usr/local/lib/python3.10/dist-packages (from aiohttp->datasets>=1.13.3->pysentimiento) (1.9.4)\n",
            "Requirement already satisfied: frozenlist>=1.1.1 in /usr/local/lib/python3.10/dist-packages (from aiohttp->datasets>=1.13.3->pysentimiento) (1.4.1)\n",
            "Requirement already satisfied: aiosignal>=1.1.2 in /usr/local/lib/python3.10/dist-packages (from aiohttp->datasets>=1.13.3->pysentimiento) (1.3.1)\n",
            "Requirement already satisfied: async-timeout<5.0,>=4.0 in /usr/local/lib/python3.10/dist-packages (from aiohttp->datasets>=1.13.3->pysentimiento) (4.0.3)\n",
            "Requirement already satisfied: charset-normalizer<4,>=2 in /usr/local/lib/python3.10/dist-packages (from requests>=2.19.0->datasets>=1.13.3->pysentimiento) (3.3.2)\n",
            "Requirement already satisfied: idna<4,>=2.5 in /usr/local/lib/python3.10/dist-packages (from requests>=2.19.0->datasets>=1.13.3->pysentimiento) (3.6)\n",
            "Requirement already satisfied: urllib3<3,>=1.21.1 in /usr/local/lib/python3.10/dist-packages (from requests>=2.19.0->datasets>=1.13.3->pysentimiento) (2.0.7)\n",
            "Requirement already satisfied: certifi>=2017.4.17 in /usr/local/lib/python3.10/dist-packages (from requests>=2.19.0->datasets>=1.13.3->pysentimiento) (2023.11.17)\n",
            "Requirement already satisfied: blis<0.8.0,>=0.7.8 in /usr/local/lib/python3.10/dist-packages (from thinc<8.2.0,>=8.1.8->spacy<4.0.0,>=3.5.0->pysentimiento) (0.7.11)\n",
            "Requirement already satisfied: confection<1.0.0,>=0.0.1 in /usr/local/lib/python3.10/dist-packages (from thinc<8.2.0,>=8.1.8->spacy<4.0.0,>=3.5.0->pysentimiento) (0.1.4)\n",
            "Requirement already satisfied: click<9.0.0,>=7.1.1 in /usr/local/lib/python3.10/dist-packages (from typer<0.10.0,>=0.3.0->spacy<4.0.0,>=3.5.0->pysentimiento) (8.1.7)\n",
            "Requirement already satisfied: MarkupSafe>=2.0 in /usr/local/lib/python3.10/dist-packages (from jinja2->spacy<4.0.0,>=3.5.0->pysentimiento) (2.1.3)\n",
            "Requirement already satisfied: python-dateutil>=2.8.1 in /usr/local/lib/python3.10/dist-packages (from pandas->datasets>=1.13.3->pysentimiento) (2.8.2)\n",
            "Requirement already satisfied: pytz>=2020.1 in /usr/local/lib/python3.10/dist-packages (from pandas->datasets>=1.13.3->pysentimiento) (2023.3.post1)\n",
            "Requirement already satisfied: mpmath>=0.19 in /usr/local/lib/python3.10/dist-packages (from sympy->torch!=2.0.1,>=2.0.0->pysentimiento) (1.3.0)\n",
            "Requirement already satisfied: six>=1.5 in /usr/local/lib/python3.10/dist-packages (from python-dateutil>=2.8.1->pandas->datasets>=1.13.3->pysentimiento) (1.16.0)\n"
          ]
        }
      ]
    },
    {
      "cell_type": "code",
      "source": [
        "!pip install monkeylearn"
      ],
      "metadata": {
        "colab": {
          "base_uri": "https://localhost:8080/"
        },
        "id": "XfRjxixxjc0a",
        "outputId": "c41473af-aea0-4f92-8d4c-0a2f98939fe2"
      },
      "execution_count": 4,
      "outputs": [
        {
          "output_type": "stream",
          "name": "stdout",
          "text": [
            "Requirement already satisfied: monkeylearn in /usr/local/lib/python3.10/dist-packages (3.6.0)\n",
            "Requirement already satisfied: requests>=2.8.1 in /usr/local/lib/python3.10/dist-packages (from monkeylearn) (2.31.0)\n",
            "Requirement already satisfied: six>=1.10.0 in /usr/local/lib/python3.10/dist-packages (from monkeylearn) (1.16.0)\n",
            "Requirement already satisfied: charset-normalizer<4,>=2 in /usr/local/lib/python3.10/dist-packages (from requests>=2.8.1->monkeylearn) (3.3.2)\n",
            "Requirement already satisfied: idna<4,>=2.5 in /usr/local/lib/python3.10/dist-packages (from requests>=2.8.1->monkeylearn) (3.6)\n",
            "Requirement already satisfied: urllib3<3,>=1.21.1 in /usr/local/lib/python3.10/dist-packages (from requests>=2.8.1->monkeylearn) (2.0.7)\n",
            "Requirement already satisfied: certifi>=2017.4.17 in /usr/local/lib/python3.10/dist-packages (from requests>=2.8.1->monkeylearn) (2023.11.17)\n"
          ]
        }
      ]
    },
    {
      "cell_type": "code",
      "source": [
        "import pandas as pd\n",
        "import pickle\n",
        "import seaborn as sns\n",
        "import matplotlib.pyplot as plt"
      ],
      "metadata": {
        "id": "gGQD7arv8DfO"
      },
      "execution_count": 5,
      "outputs": []
    },
    {
      "cell_type": "code",
      "source": [
        "from transformers import pipeline, AutoTokenizer\n",
        "from transformers import BertTokenizer, BertForSequenceClassification\n",
        "from pysentimiento import create_analyzer\n",
        "from sklearn.metrics import accuracy_score, precision_score, recall_score, f1_score, confusion_matrix, ConfusionMatrixDisplay, roc_curve, auc\n",
        "\n"
      ],
      "metadata": {
        "id": "GQLPkP2X-HwQ"
      },
      "execution_count": 6,
      "outputs": []
    },
    {
      "cell_type": "markdown",
      "source": [
        "## 2.0.0 Data preparation"
      ],
      "metadata": {
        "id": "3CYxZF2c9N0L"
      }
    },
    {
      "cell_type": "markdown",
      "source": [
        "### 2.0.1 Loading a list of comments"
      ],
      "metadata": {
        "id": "BP69k8tu9KJ4"
      }
    },
    {
      "cell_type": "code",
      "execution_count": 7,
      "metadata": {
        "colab": {
          "base_uri": "https://localhost:8080/"
        },
        "id": "4BZ6FaOQ4DL4",
        "outputId": "3931db00-f326-467d-8a46-1f61d61eb327"
      },
      "outputs": [
        {
          "output_type": "stream",
          "name": "stdout",
          "text": [
            "['<a href=\"https://www.youtube.com/watch?v=TVQgSIlN4no&amp;t=2m26s\">2:26</a> duke moment', 'perfect timing on an american test and an alpha kitten bullieing a runt,....', 'Kevin is my spirit animal', 'The only antidepressant ill ever need is the office…', 'How to pick up chicks<br>1. Grow a mustache<br>2. Say &quot;Smile if you love mens prostates&quot;', 'somethin about <br>&quot;the devil you know&quot;', 'the scene with who and whom at <a href=\"https://www.youtube.com/watch?v=TVQgSIlN4no&amp;t=5m09s\">5:09</a> was a masterpiece', 'Its always Creed 😂 he&#39;s one of my favorites', 'Michael declaring bankruptcy always kills me🤣', 'that SOUP skit is HILARIOUS as hell', 'Bro <a href=\"https://www.youtube.com/watch?v=TVQgSIlN4no&amp;t=1m28s\">1:28</a> still makes me die to this very day lmaooo', 'It is really weak compared to UK', 'The bankruptcy part might be my favorite 😂😂😂', 'For an &quot;office moments that make me laugh lime an idiot&quot; this video is really short!', 'The “gets me every time” comments get me every time.', 'Andy’s wall punch noises 😂', 'Man they’re still finding ways to repackage office clips huh', 'I love the moment when jim interpersonates dwight', '&quot;if we hire Cirque du Soleil as salaried employees will that help us with the end of the year tax stuff?&quot; gets me everytime 😂', 'Creed eating Ramen while everyone begins to Vomit was too funny to me.', '<a href=\"https://www.youtube.com/watch?v=TVQgSIlN4no&amp;t=3m15s\">3:15</a> 😭', 'Eyyyyyyyy ❤️', 'didnt even crack a smile. this show sucks', '<a href=\"https://www.youtube.com/watch?v=TVQgSIlN4no&amp;t=0m37s\">0:37</a> is the photographer Colin Robinson????', 'Phyllis&#39;s hair gets progressively darker as the seasons go by. <br>I don&#39;t have a life.', 'You forgot kevin’s chilli', 'These are the best 🤣🤣🤣🤣💯💯💯💯', 'It really does make me laugh 😅😂', 'I laugh out loud at the episode of Kelly &#39;s birthday 🤣Kelly is super cute 😆😆', 'Smile if you love men’s prostates is crazy lmaoo', 'I work in a hospital basement and we had a sewer pipe burst. I walked in and said &quot;Somebody makin soup?&quot; Nobody got it...😂', 'The office has been my all time favorite, but the episodes in season 5 with “Charles” CEO, were such a joy kill. <br>I couldn’t get through those and always pass over them deleting as I go. <br>Big mistake💩👎🏻', 'Esteban: el flooro', 'Anything from the last 2 seasons should be excluded from this video', 'RYAN STARTED THE FIRE!!!!!', 'Kevin was so smart he predicted the president would be a potato', 'We have a day honoring Martin Luther King but he didn’t even work here 🤣🤣🤣🤣😭', 'Toby yelling &#39;I&#39;m sorry&#39; after getting hit in the eye by a paper plane is just so... Toby 😅', 'This is the least funny show ever…..!', 'Gabbagool 🤌🏻', 'I just don’t find this programme funny one bit', 'Angela letting Andy float away and possibly die was hilarious', '10 2nd @ ahh thyme', 'Ten seconds at a time', 'So yeah Uhuh wes Cranky', 'Let’s add an n somewhere in the middle because Jewish is called nun', 'Feeling lonely', 'And yeah I’m craky', 'Then turn that c into a k', 'Then get that a and change it for a c cause sometimes it sounds the same', 'Trade it in for an s because it sounds so alike', 'How about you get the z in crazy', 'Yeah Lonny <br>The Halo video game<br>The Covenant level<br>That’s the name of the level<br>Halo three I believe sweetly<br>Race for the cure', 'Just call me a trolley<br>Not that I am but I feel<br>Like fat leprosy', 'That was that nerve ha<br>You ain’t bout to say a word ha', 'That was that nirvana<br>Hugh?', 'Your playing your part<br>Doing what you can<br>Trying to survive<br>Trying to maintain<br>Trying to support<br>Trying to help', 'You got a god complex', 'So study your stars<br>You know the biblical psychology of word usage<br>Your starnavigating<br>Worshipping stars<br>Trying to build life in another solar system <br>I don’t think so<br>But you think aliens exist', 'Your taking someone’s job<br>Your being transferred<br>Your upgrading<br>You getting a whole new audience of pea poe who don’t already know you<br>Your starting fresh<br>A new identity<br>A secret agent<br>Your being given a number and your name is being removed', 'Copies of copies of copies of copies. Capisce?', 'Just star Eminem Marshall Mathers Slim Shady as the new Michael Scott<br>I’ll take the twenty Sixt five train as creed', 'I am a mat like the made chaos dizzies because knowing who won doesn’t take no for an answer', 'I am mad like the mad cow disease because no one wants to eat the mushrooms I grow from my feces', 'The Office (US) (2045)<br>Created by <i>______</i><br>Starring Edel León as <i>_______</i> the boss of <i>_______</i>  a company named <i>______</i> in _______, _______.', 'Some psychometric stasis has it held down stuck and Jenna continues starting from it', 'I got to find a scene of Pam', 'תבל', 'ארקא', 'I feel like the Ken doll no one wants to play with anymore', 'ציח', 'The image I’m using is bold and blurry that I’m unsure if I’m getting it right', 'You have to add Hebrew keyboard<br>Look at it type it copy paste it', 'נשח', 'ניא', 'ארםה', 'ארץ', 'Throw dirt', 'I left a 👸🏼 emoji at some tinier than Angela white chick<br>I remember that<br>And I remember the cockroach', 'ח', 'Still feel like that line <br>😓boo😢goo😭hoo this is so frustrating', 'That I am thinking about myself<br>I never think about myself<br>Never<br>I never tell myself<br>Let me see what I can get out of such person', 'I don’t know<br>I also feel like an egotistic', 'Ellie I feel like the reverend when he was crying', 'Compared to the original….this one really blows. Not funny at all !!', 'Michael falling down the stairs only to fall down the stairs again.. too good 😂', 'The Office is one of the greatest shows ever.', 'Michael hitting Stanley’s car with watermelon, scissor me, and Michael chucking the frisbee on a college campus', 'I fell in love with this show after a couple episodes lol', 'I’m still enjoying it', 'I didnt laugh but i probably wouldve if i was watching full episodes', 'Real love is Stanley holding on to the newspaper article for Scott&#39;s Tot&#39;s!', '😂😂😂', '“Is that a woman’s suit?”', 'The energetic Stanley 🎉', 'Also Dwight actually rocks that pumpkin head to be honest', 'Michael hitting Meredith with the car actually made me laugh out loud 🤣', 'Believe me, when its with context its even more funny🤣🤣🤣', '... I dont even know where to start... I am no hater but I had just one tentative of a smile... I guess you should have watched it in 2005, and become a fan then to resonate with it now (sadly I was a kid when the show was released so I am no ignorant, just different generation...) anyways I will believe it is just not the best collage/behind the scene video therefore I still keep my respect for the show and for the actors only because I know how many people enjoyed it then so it must have been decent. maybe working in an office now in 2023 kills the fun? dont know but I won&#39;t gonna watch all seasons until I fall for it 🙃 I already want my 15 minutes back 😅 but if it made your day I am happy for you, good bye :)', 'Boy have you lost your mind!?!?!?!?!😂😂']\n"
          ]
        }
      ],
      "source": [
        "with open('comments_list.pkl', 'rb') as file:\n",
        "    comments = pickle.load(file)\n",
        "\n",
        "print(comments)\n"
      ]
    },
    {
      "cell_type": "markdown",
      "source": [
        "### 2.0.2 Label loading"
      ],
      "metadata": {
        "id": "fulYbqAH9Vaj"
      }
    },
    {
      "cell_type": "code",
      "source": [
        "data_1 = pd.read_csv('Comment classification.csv', header=None, names=['Komentarz', 'Klasyfikacja'])\n",
        "data_1"
      ],
      "metadata": {
        "colab": {
          "base_uri": "https://localhost:8080/",
          "height": 424
        },
        "id": "aBvdBxNs8Fsm",
        "outputId": "bb89794e-9e04-4ba9-e432-dcd90b90f75d"
      },
      "execution_count": 8,
      "outputs": [
        {
          "output_type": "execute_result",
          "data": {
            "text/plain": [
              "                                            Komentarz  Klasyfikacja\n",
              "0   <a href=\"https://www.youtube.com/watch?v=TVQgS...             0\n",
              "1   perfect timing on an american test and an alph...             0\n",
              "2                           Kevin is my spirit animal             0\n",
              "3   The only antidepressant ill ever need is the o...             0\n",
              "4   How to pick up chicks<br>1. Grow a mustache<br...             0\n",
              "..                                                ...           ...\n",
              "95  Also Dwight actually rocks that pumpkin head t...             0\n",
              "96  Michael hitting Meredith with the car actually...             1\n",
              "97  Believe me, when its with context its even mor...             0\n",
              "98  ... I dont even know where to start... I am no...            -1\n",
              "99             Boy have you lost your mind!?!?!?!?!😂😂             0\n",
              "\n",
              "[100 rows x 2 columns]"
            ],
            "text/html": [
              "\n",
              "  <div id=\"df-cf36f23c-48ff-4604-a7ad-57595b8bd0ae\" class=\"colab-df-container\">\n",
              "    <div>\n",
              "<style scoped>\n",
              "    .dataframe tbody tr th:only-of-type {\n",
              "        vertical-align: middle;\n",
              "    }\n",
              "\n",
              "    .dataframe tbody tr th {\n",
              "        vertical-align: top;\n",
              "    }\n",
              "\n",
              "    .dataframe thead th {\n",
              "        text-align: right;\n",
              "    }\n",
              "</style>\n",
              "<table border=\"1\" class=\"dataframe\">\n",
              "  <thead>\n",
              "    <tr style=\"text-align: right;\">\n",
              "      <th></th>\n",
              "      <th>Komentarz</th>\n",
              "      <th>Klasyfikacja</th>\n",
              "    </tr>\n",
              "  </thead>\n",
              "  <tbody>\n",
              "    <tr>\n",
              "      <th>0</th>\n",
              "      <td>&lt;a href=\"https://www.youtube.com/watch?v=TVQgS...</td>\n",
              "      <td>0</td>\n",
              "    </tr>\n",
              "    <tr>\n",
              "      <th>1</th>\n",
              "      <td>perfect timing on an american test and an alph...</td>\n",
              "      <td>0</td>\n",
              "    </tr>\n",
              "    <tr>\n",
              "      <th>2</th>\n",
              "      <td>Kevin is my spirit animal</td>\n",
              "      <td>0</td>\n",
              "    </tr>\n",
              "    <tr>\n",
              "      <th>3</th>\n",
              "      <td>The only antidepressant ill ever need is the o...</td>\n",
              "      <td>0</td>\n",
              "    </tr>\n",
              "    <tr>\n",
              "      <th>4</th>\n",
              "      <td>How to pick up chicks&lt;br&gt;1. Grow a mustache&lt;br...</td>\n",
              "      <td>0</td>\n",
              "    </tr>\n",
              "    <tr>\n",
              "      <th>...</th>\n",
              "      <td>...</td>\n",
              "      <td>...</td>\n",
              "    </tr>\n",
              "    <tr>\n",
              "      <th>95</th>\n",
              "      <td>Also Dwight actually rocks that pumpkin head t...</td>\n",
              "      <td>0</td>\n",
              "    </tr>\n",
              "    <tr>\n",
              "      <th>96</th>\n",
              "      <td>Michael hitting Meredith with the car actually...</td>\n",
              "      <td>1</td>\n",
              "    </tr>\n",
              "    <tr>\n",
              "      <th>97</th>\n",
              "      <td>Believe me, when its with context its even mor...</td>\n",
              "      <td>0</td>\n",
              "    </tr>\n",
              "    <tr>\n",
              "      <th>98</th>\n",
              "      <td>... I dont even know where to start... I am no...</td>\n",
              "      <td>-1</td>\n",
              "    </tr>\n",
              "    <tr>\n",
              "      <th>99</th>\n",
              "      <td>Boy have you lost your mind!?!?!?!?!😂😂</td>\n",
              "      <td>0</td>\n",
              "    </tr>\n",
              "  </tbody>\n",
              "</table>\n",
              "<p>100 rows × 2 columns</p>\n",
              "</div>\n",
              "    <div class=\"colab-df-buttons\">\n",
              "\n",
              "  <div class=\"colab-df-container\">\n",
              "    <button class=\"colab-df-convert\" onclick=\"convertToInteractive('df-cf36f23c-48ff-4604-a7ad-57595b8bd0ae')\"\n",
              "            title=\"Convert this dataframe to an interactive table.\"\n",
              "            style=\"display:none;\">\n",
              "\n",
              "  <svg xmlns=\"http://www.w3.org/2000/svg\" height=\"24px\" viewBox=\"0 -960 960 960\">\n",
              "    <path d=\"M120-120v-720h720v720H120Zm60-500h600v-160H180v160Zm220 220h160v-160H400v160Zm0 220h160v-160H400v160ZM180-400h160v-160H180v160Zm440 0h160v-160H620v160ZM180-180h160v-160H180v160Zm440 0h160v-160H620v160Z\"/>\n",
              "  </svg>\n",
              "    </button>\n",
              "\n",
              "  <style>\n",
              "    .colab-df-container {\n",
              "      display:flex;\n",
              "      gap: 12px;\n",
              "    }\n",
              "\n",
              "    .colab-df-convert {\n",
              "      background-color: #E8F0FE;\n",
              "      border: none;\n",
              "      border-radius: 50%;\n",
              "      cursor: pointer;\n",
              "      display: none;\n",
              "      fill: #1967D2;\n",
              "      height: 32px;\n",
              "      padding: 0 0 0 0;\n",
              "      width: 32px;\n",
              "    }\n",
              "\n",
              "    .colab-df-convert:hover {\n",
              "      background-color: #E2EBFA;\n",
              "      box-shadow: 0px 1px 2px rgba(60, 64, 67, 0.3), 0px 1px 3px 1px rgba(60, 64, 67, 0.15);\n",
              "      fill: #174EA6;\n",
              "    }\n",
              "\n",
              "    .colab-df-buttons div {\n",
              "      margin-bottom: 4px;\n",
              "    }\n",
              "\n",
              "    [theme=dark] .colab-df-convert {\n",
              "      background-color: #3B4455;\n",
              "      fill: #D2E3FC;\n",
              "    }\n",
              "\n",
              "    [theme=dark] .colab-df-convert:hover {\n",
              "      background-color: #434B5C;\n",
              "      box-shadow: 0px 1px 3px 1px rgba(0, 0, 0, 0.15);\n",
              "      filter: drop-shadow(0px 1px 2px rgba(0, 0, 0, 0.3));\n",
              "      fill: #FFFFFF;\n",
              "    }\n",
              "  </style>\n",
              "\n",
              "    <script>\n",
              "      const buttonEl =\n",
              "        document.querySelector('#df-cf36f23c-48ff-4604-a7ad-57595b8bd0ae button.colab-df-convert');\n",
              "      buttonEl.style.display =\n",
              "        google.colab.kernel.accessAllowed ? 'block' : 'none';\n",
              "\n",
              "      async function convertToInteractive(key) {\n",
              "        const element = document.querySelector('#df-cf36f23c-48ff-4604-a7ad-57595b8bd0ae');\n",
              "        const dataTable =\n",
              "          await google.colab.kernel.invokeFunction('convertToInteractive',\n",
              "                                                    [key], {});\n",
              "        if (!dataTable) return;\n",
              "\n",
              "        const docLinkHtml = 'Like what you see? Visit the ' +\n",
              "          '<a target=\"_blank\" href=https://colab.research.google.com/notebooks/data_table.ipynb>data table notebook</a>'\n",
              "          + ' to learn more about interactive tables.';\n",
              "        element.innerHTML = '';\n",
              "        dataTable['output_type'] = 'display_data';\n",
              "        await google.colab.output.renderOutput(dataTable, element);\n",
              "        const docLink = document.createElement('div');\n",
              "        docLink.innerHTML = docLinkHtml;\n",
              "        element.appendChild(docLink);\n",
              "      }\n",
              "    </script>\n",
              "  </div>\n",
              "\n",
              "\n",
              "<div id=\"df-6da0a0d8-cbec-45e7-a4f5-de257f87999d\">\n",
              "  <button class=\"colab-df-quickchart\" onclick=\"quickchart('df-6da0a0d8-cbec-45e7-a4f5-de257f87999d')\"\n",
              "            title=\"Suggest charts\"\n",
              "            style=\"display:none;\">\n",
              "\n",
              "<svg xmlns=\"http://www.w3.org/2000/svg\" height=\"24px\"viewBox=\"0 0 24 24\"\n",
              "     width=\"24px\">\n",
              "    <g>\n",
              "        <path d=\"M19 3H5c-1.1 0-2 .9-2 2v14c0 1.1.9 2 2 2h14c1.1 0 2-.9 2-2V5c0-1.1-.9-2-2-2zM9 17H7v-7h2v7zm4 0h-2V7h2v10zm4 0h-2v-4h2v4z\"/>\n",
              "    </g>\n",
              "</svg>\n",
              "  </button>\n",
              "\n",
              "<style>\n",
              "  .colab-df-quickchart {\n",
              "      --bg-color: #E8F0FE;\n",
              "      --fill-color: #1967D2;\n",
              "      --hover-bg-color: #E2EBFA;\n",
              "      --hover-fill-color: #174EA6;\n",
              "      --disabled-fill-color: #AAA;\n",
              "      --disabled-bg-color: #DDD;\n",
              "  }\n",
              "\n",
              "  [theme=dark] .colab-df-quickchart {\n",
              "      --bg-color: #3B4455;\n",
              "      --fill-color: #D2E3FC;\n",
              "      --hover-bg-color: #434B5C;\n",
              "      --hover-fill-color: #FFFFFF;\n",
              "      --disabled-bg-color: #3B4455;\n",
              "      --disabled-fill-color: #666;\n",
              "  }\n",
              "\n",
              "  .colab-df-quickchart {\n",
              "    background-color: var(--bg-color);\n",
              "    border: none;\n",
              "    border-radius: 50%;\n",
              "    cursor: pointer;\n",
              "    display: none;\n",
              "    fill: var(--fill-color);\n",
              "    height: 32px;\n",
              "    padding: 0;\n",
              "    width: 32px;\n",
              "  }\n",
              "\n",
              "  .colab-df-quickchart:hover {\n",
              "    background-color: var(--hover-bg-color);\n",
              "    box-shadow: 0 1px 2px rgba(60, 64, 67, 0.3), 0 1px 3px 1px rgba(60, 64, 67, 0.15);\n",
              "    fill: var(--button-hover-fill-color);\n",
              "  }\n",
              "\n",
              "  .colab-df-quickchart-complete:disabled,\n",
              "  .colab-df-quickchart-complete:disabled:hover {\n",
              "    background-color: var(--disabled-bg-color);\n",
              "    fill: var(--disabled-fill-color);\n",
              "    box-shadow: none;\n",
              "  }\n",
              "\n",
              "  .colab-df-spinner {\n",
              "    border: 2px solid var(--fill-color);\n",
              "    border-color: transparent;\n",
              "    border-bottom-color: var(--fill-color);\n",
              "    animation:\n",
              "      spin 1s steps(1) infinite;\n",
              "  }\n",
              "\n",
              "  @keyframes spin {\n",
              "    0% {\n",
              "      border-color: transparent;\n",
              "      border-bottom-color: var(--fill-color);\n",
              "      border-left-color: var(--fill-color);\n",
              "    }\n",
              "    20% {\n",
              "      border-color: transparent;\n",
              "      border-left-color: var(--fill-color);\n",
              "      border-top-color: var(--fill-color);\n",
              "    }\n",
              "    30% {\n",
              "      border-color: transparent;\n",
              "      border-left-color: var(--fill-color);\n",
              "      border-top-color: var(--fill-color);\n",
              "      border-right-color: var(--fill-color);\n",
              "    }\n",
              "    40% {\n",
              "      border-color: transparent;\n",
              "      border-right-color: var(--fill-color);\n",
              "      border-top-color: var(--fill-color);\n",
              "    }\n",
              "    60% {\n",
              "      border-color: transparent;\n",
              "      border-right-color: var(--fill-color);\n",
              "    }\n",
              "    80% {\n",
              "      border-color: transparent;\n",
              "      border-right-color: var(--fill-color);\n",
              "      border-bottom-color: var(--fill-color);\n",
              "    }\n",
              "    90% {\n",
              "      border-color: transparent;\n",
              "      border-bottom-color: var(--fill-color);\n",
              "    }\n",
              "  }\n",
              "</style>\n",
              "\n",
              "  <script>\n",
              "    async function quickchart(key) {\n",
              "      const quickchartButtonEl =\n",
              "        document.querySelector('#' + key + ' button');\n",
              "      quickchartButtonEl.disabled = true;  // To prevent multiple clicks.\n",
              "      quickchartButtonEl.classList.add('colab-df-spinner');\n",
              "      try {\n",
              "        const charts = await google.colab.kernel.invokeFunction(\n",
              "            'suggestCharts', [key], {});\n",
              "      } catch (error) {\n",
              "        console.error('Error during call to suggestCharts:', error);\n",
              "      }\n",
              "      quickchartButtonEl.classList.remove('colab-df-spinner');\n",
              "      quickchartButtonEl.classList.add('colab-df-quickchart-complete');\n",
              "    }\n",
              "    (() => {\n",
              "      let quickchartButtonEl =\n",
              "        document.querySelector('#df-6da0a0d8-cbec-45e7-a4f5-de257f87999d button');\n",
              "      quickchartButtonEl.style.display =\n",
              "        google.colab.kernel.accessAllowed ? 'block' : 'none';\n",
              "    })();\n",
              "  </script>\n",
              "</div>\n",
              "    </div>\n",
              "  </div>\n"
            ]
          },
          "metadata": {},
          "execution_count": 8
        }
      ]
    },
    {
      "cell_type": "code",
      "source": [
        "data_2 = pd.read_csv('Comment classification.csv', header=None, names=['Komentarz', 'Klasyfikacja'])\n",
        "data_2"
      ],
      "metadata": {
        "colab": {
          "base_uri": "https://localhost:8080/",
          "height": 424
        },
        "id": "SwnemCQg4C8X",
        "outputId": "fe8bfc62-cc6e-479a-8206-ed8f68e3e372"
      },
      "execution_count": 9,
      "outputs": [
        {
          "output_type": "execute_result",
          "data": {
            "text/plain": [
              "                                            Komentarz  Klasyfikacja\n",
              "0   <a href=\"https://www.youtube.com/watch?v=TVQgS...             0\n",
              "1   perfect timing on an american test and an alph...             0\n",
              "2                           Kevin is my spirit animal             0\n",
              "3   The only antidepressant ill ever need is the o...             0\n",
              "4   How to pick up chicks<br>1. Grow a mustache<br...             0\n",
              "..                                                ...           ...\n",
              "95  Also Dwight actually rocks that pumpkin head t...             0\n",
              "96  Michael hitting Meredith with the car actually...             1\n",
              "97  Believe me, when its with context its even mor...             0\n",
              "98  ... I dont even know where to start... I am no...            -1\n",
              "99             Boy have you lost your mind!?!?!?!?!😂😂             0\n",
              "\n",
              "[100 rows x 2 columns]"
            ],
            "text/html": [
              "\n",
              "  <div id=\"df-a2e6cd96-6738-44bb-97d4-357cb915e468\" class=\"colab-df-container\">\n",
              "    <div>\n",
              "<style scoped>\n",
              "    .dataframe tbody tr th:only-of-type {\n",
              "        vertical-align: middle;\n",
              "    }\n",
              "\n",
              "    .dataframe tbody tr th {\n",
              "        vertical-align: top;\n",
              "    }\n",
              "\n",
              "    .dataframe thead th {\n",
              "        text-align: right;\n",
              "    }\n",
              "</style>\n",
              "<table border=\"1\" class=\"dataframe\">\n",
              "  <thead>\n",
              "    <tr style=\"text-align: right;\">\n",
              "      <th></th>\n",
              "      <th>Komentarz</th>\n",
              "      <th>Klasyfikacja</th>\n",
              "    </tr>\n",
              "  </thead>\n",
              "  <tbody>\n",
              "    <tr>\n",
              "      <th>0</th>\n",
              "      <td>&lt;a href=\"https://www.youtube.com/watch?v=TVQgS...</td>\n",
              "      <td>0</td>\n",
              "    </tr>\n",
              "    <tr>\n",
              "      <th>1</th>\n",
              "      <td>perfect timing on an american test and an alph...</td>\n",
              "      <td>0</td>\n",
              "    </tr>\n",
              "    <tr>\n",
              "      <th>2</th>\n",
              "      <td>Kevin is my spirit animal</td>\n",
              "      <td>0</td>\n",
              "    </tr>\n",
              "    <tr>\n",
              "      <th>3</th>\n",
              "      <td>The only antidepressant ill ever need is the o...</td>\n",
              "      <td>0</td>\n",
              "    </tr>\n",
              "    <tr>\n",
              "      <th>4</th>\n",
              "      <td>How to pick up chicks&lt;br&gt;1. Grow a mustache&lt;br...</td>\n",
              "      <td>0</td>\n",
              "    </tr>\n",
              "    <tr>\n",
              "      <th>...</th>\n",
              "      <td>...</td>\n",
              "      <td>...</td>\n",
              "    </tr>\n",
              "    <tr>\n",
              "      <th>95</th>\n",
              "      <td>Also Dwight actually rocks that pumpkin head t...</td>\n",
              "      <td>0</td>\n",
              "    </tr>\n",
              "    <tr>\n",
              "      <th>96</th>\n",
              "      <td>Michael hitting Meredith with the car actually...</td>\n",
              "      <td>1</td>\n",
              "    </tr>\n",
              "    <tr>\n",
              "      <th>97</th>\n",
              "      <td>Believe me, when its with context its even mor...</td>\n",
              "      <td>0</td>\n",
              "    </tr>\n",
              "    <tr>\n",
              "      <th>98</th>\n",
              "      <td>... I dont even know where to start... I am no...</td>\n",
              "      <td>-1</td>\n",
              "    </tr>\n",
              "    <tr>\n",
              "      <th>99</th>\n",
              "      <td>Boy have you lost your mind!?!?!?!?!😂😂</td>\n",
              "      <td>0</td>\n",
              "    </tr>\n",
              "  </tbody>\n",
              "</table>\n",
              "<p>100 rows × 2 columns</p>\n",
              "</div>\n",
              "    <div class=\"colab-df-buttons\">\n",
              "\n",
              "  <div class=\"colab-df-container\">\n",
              "    <button class=\"colab-df-convert\" onclick=\"convertToInteractive('df-a2e6cd96-6738-44bb-97d4-357cb915e468')\"\n",
              "            title=\"Convert this dataframe to an interactive table.\"\n",
              "            style=\"display:none;\">\n",
              "\n",
              "  <svg xmlns=\"http://www.w3.org/2000/svg\" height=\"24px\" viewBox=\"0 -960 960 960\">\n",
              "    <path d=\"M120-120v-720h720v720H120Zm60-500h600v-160H180v160Zm220 220h160v-160H400v160Zm0 220h160v-160H400v160ZM180-400h160v-160H180v160Zm440 0h160v-160H620v160ZM180-180h160v-160H180v160Zm440 0h160v-160H620v160Z\"/>\n",
              "  </svg>\n",
              "    </button>\n",
              "\n",
              "  <style>\n",
              "    .colab-df-container {\n",
              "      display:flex;\n",
              "      gap: 12px;\n",
              "    }\n",
              "\n",
              "    .colab-df-convert {\n",
              "      background-color: #E8F0FE;\n",
              "      border: none;\n",
              "      border-radius: 50%;\n",
              "      cursor: pointer;\n",
              "      display: none;\n",
              "      fill: #1967D2;\n",
              "      height: 32px;\n",
              "      padding: 0 0 0 0;\n",
              "      width: 32px;\n",
              "    }\n",
              "\n",
              "    .colab-df-convert:hover {\n",
              "      background-color: #E2EBFA;\n",
              "      box-shadow: 0px 1px 2px rgba(60, 64, 67, 0.3), 0px 1px 3px 1px rgba(60, 64, 67, 0.15);\n",
              "      fill: #174EA6;\n",
              "    }\n",
              "\n",
              "    .colab-df-buttons div {\n",
              "      margin-bottom: 4px;\n",
              "    }\n",
              "\n",
              "    [theme=dark] .colab-df-convert {\n",
              "      background-color: #3B4455;\n",
              "      fill: #D2E3FC;\n",
              "    }\n",
              "\n",
              "    [theme=dark] .colab-df-convert:hover {\n",
              "      background-color: #434B5C;\n",
              "      box-shadow: 0px 1px 3px 1px rgba(0, 0, 0, 0.15);\n",
              "      filter: drop-shadow(0px 1px 2px rgba(0, 0, 0, 0.3));\n",
              "      fill: #FFFFFF;\n",
              "    }\n",
              "  </style>\n",
              "\n",
              "    <script>\n",
              "      const buttonEl =\n",
              "        document.querySelector('#df-a2e6cd96-6738-44bb-97d4-357cb915e468 button.colab-df-convert');\n",
              "      buttonEl.style.display =\n",
              "        google.colab.kernel.accessAllowed ? 'block' : 'none';\n",
              "\n",
              "      async function convertToInteractive(key) {\n",
              "        const element = document.querySelector('#df-a2e6cd96-6738-44bb-97d4-357cb915e468');\n",
              "        const dataTable =\n",
              "          await google.colab.kernel.invokeFunction('convertToInteractive',\n",
              "                                                    [key], {});\n",
              "        if (!dataTable) return;\n",
              "\n",
              "        const docLinkHtml = 'Like what you see? Visit the ' +\n",
              "          '<a target=\"_blank\" href=https://colab.research.google.com/notebooks/data_table.ipynb>data table notebook</a>'\n",
              "          + ' to learn more about interactive tables.';\n",
              "        element.innerHTML = '';\n",
              "        dataTable['output_type'] = 'display_data';\n",
              "        await google.colab.output.renderOutput(dataTable, element);\n",
              "        const docLink = document.createElement('div');\n",
              "        docLink.innerHTML = docLinkHtml;\n",
              "        element.appendChild(docLink);\n",
              "      }\n",
              "    </script>\n",
              "  </div>\n",
              "\n",
              "\n",
              "<div id=\"df-7149b046-5b8c-4dea-803a-60f3024ea51e\">\n",
              "  <button class=\"colab-df-quickchart\" onclick=\"quickchart('df-7149b046-5b8c-4dea-803a-60f3024ea51e')\"\n",
              "            title=\"Suggest charts\"\n",
              "            style=\"display:none;\">\n",
              "\n",
              "<svg xmlns=\"http://www.w3.org/2000/svg\" height=\"24px\"viewBox=\"0 0 24 24\"\n",
              "     width=\"24px\">\n",
              "    <g>\n",
              "        <path d=\"M19 3H5c-1.1 0-2 .9-2 2v14c0 1.1.9 2 2 2h14c1.1 0 2-.9 2-2V5c0-1.1-.9-2-2-2zM9 17H7v-7h2v7zm4 0h-2V7h2v10zm4 0h-2v-4h2v4z\"/>\n",
              "    </g>\n",
              "</svg>\n",
              "  </button>\n",
              "\n",
              "<style>\n",
              "  .colab-df-quickchart {\n",
              "      --bg-color: #E8F0FE;\n",
              "      --fill-color: #1967D2;\n",
              "      --hover-bg-color: #E2EBFA;\n",
              "      --hover-fill-color: #174EA6;\n",
              "      --disabled-fill-color: #AAA;\n",
              "      --disabled-bg-color: #DDD;\n",
              "  }\n",
              "\n",
              "  [theme=dark] .colab-df-quickchart {\n",
              "      --bg-color: #3B4455;\n",
              "      --fill-color: #D2E3FC;\n",
              "      --hover-bg-color: #434B5C;\n",
              "      --hover-fill-color: #FFFFFF;\n",
              "      --disabled-bg-color: #3B4455;\n",
              "      --disabled-fill-color: #666;\n",
              "  }\n",
              "\n",
              "  .colab-df-quickchart {\n",
              "    background-color: var(--bg-color);\n",
              "    border: none;\n",
              "    border-radius: 50%;\n",
              "    cursor: pointer;\n",
              "    display: none;\n",
              "    fill: var(--fill-color);\n",
              "    height: 32px;\n",
              "    padding: 0;\n",
              "    width: 32px;\n",
              "  }\n",
              "\n",
              "  .colab-df-quickchart:hover {\n",
              "    background-color: var(--hover-bg-color);\n",
              "    box-shadow: 0 1px 2px rgba(60, 64, 67, 0.3), 0 1px 3px 1px rgba(60, 64, 67, 0.15);\n",
              "    fill: var(--button-hover-fill-color);\n",
              "  }\n",
              "\n",
              "  .colab-df-quickchart-complete:disabled,\n",
              "  .colab-df-quickchart-complete:disabled:hover {\n",
              "    background-color: var(--disabled-bg-color);\n",
              "    fill: var(--disabled-fill-color);\n",
              "    box-shadow: none;\n",
              "  }\n",
              "\n",
              "  .colab-df-spinner {\n",
              "    border: 2px solid var(--fill-color);\n",
              "    border-color: transparent;\n",
              "    border-bottom-color: var(--fill-color);\n",
              "    animation:\n",
              "      spin 1s steps(1) infinite;\n",
              "  }\n",
              "\n",
              "  @keyframes spin {\n",
              "    0% {\n",
              "      border-color: transparent;\n",
              "      border-bottom-color: var(--fill-color);\n",
              "      border-left-color: var(--fill-color);\n",
              "    }\n",
              "    20% {\n",
              "      border-color: transparent;\n",
              "      border-left-color: var(--fill-color);\n",
              "      border-top-color: var(--fill-color);\n",
              "    }\n",
              "    30% {\n",
              "      border-color: transparent;\n",
              "      border-left-color: var(--fill-color);\n",
              "      border-top-color: var(--fill-color);\n",
              "      border-right-color: var(--fill-color);\n",
              "    }\n",
              "    40% {\n",
              "      border-color: transparent;\n",
              "      border-right-color: var(--fill-color);\n",
              "      border-top-color: var(--fill-color);\n",
              "    }\n",
              "    60% {\n",
              "      border-color: transparent;\n",
              "      border-right-color: var(--fill-color);\n",
              "    }\n",
              "    80% {\n",
              "      border-color: transparent;\n",
              "      border-right-color: var(--fill-color);\n",
              "      border-bottom-color: var(--fill-color);\n",
              "    }\n",
              "    90% {\n",
              "      border-color: transparent;\n",
              "      border-bottom-color: var(--fill-color);\n",
              "    }\n",
              "  }\n",
              "</style>\n",
              "\n",
              "  <script>\n",
              "    async function quickchart(key) {\n",
              "      const quickchartButtonEl =\n",
              "        document.querySelector('#' + key + ' button');\n",
              "      quickchartButtonEl.disabled = true;  // To prevent multiple clicks.\n",
              "      quickchartButtonEl.classList.add('colab-df-spinner');\n",
              "      try {\n",
              "        const charts = await google.colab.kernel.invokeFunction(\n",
              "            'suggestCharts', [key], {});\n",
              "      } catch (error) {\n",
              "        console.error('Error during call to suggestCharts:', error);\n",
              "      }\n",
              "      quickchartButtonEl.classList.remove('colab-df-spinner');\n",
              "      quickchartButtonEl.classList.add('colab-df-quickchart-complete');\n",
              "    }\n",
              "    (() => {\n",
              "      let quickchartButtonEl =\n",
              "        document.querySelector('#df-7149b046-5b8c-4dea-803a-60f3024ea51e button');\n",
              "      quickchartButtonEl.style.display =\n",
              "        google.colab.kernel.accessAllowed ? 'block' : 'none';\n",
              "    })();\n",
              "  </script>\n",
              "</div>\n",
              "    </div>\n",
              "  </div>\n"
            ]
          },
          "metadata": {},
          "execution_count": 9
        }
      ]
    },
    {
      "cell_type": "code",
      "source": [
        "labels_1 = data_1['Klasyfikacja'].tolist()\n",
        "print(labels_1)"
      ],
      "metadata": {
        "colab": {
          "base_uri": "https://localhost:8080/"
        },
        "id": "jbGp7REO8i0R",
        "outputId": "c8891589-e148-4277-e16c-c5805d8d0238"
      },
      "execution_count": 10,
      "outputs": [
        {
          "output_type": "stream",
          "name": "stdout",
          "text": [
            "[0, 0, 0, 0, 0, 0, 1, 0, 0, 1, 0, -1, 0, 0, 1, 0, 0, 1, 0, 1, 0, 0, -1, 0, 0, 0, 1, 1, 1, 0, 0, -1, 0, -1, 0, 0, 0, 0, -1, 0, -1, 1, 0, 0, 0, 0, -1, 0, 0, 0, 0, 0, 0, 0, 0, 0, 0, 0, 0, 0, 0, 0, 0, 0, 0, 0, 0, 0, 0, 0, 0, 0, 0, 0, 0, 0, 0, 0, 0, 0, 0, 0, 0, 0, -1, 0, 1, 0, 1, 1, 0, 0, 0, 0, 0, 0, 1, 0, -1, 0]\n"
          ]
        }
      ]
    },
    {
      "cell_type": "code",
      "source": [
        "labels_2 = data_1['Klasyfikacja'].tolist()\n",
        "print(labels_2)"
      ],
      "metadata": {
        "colab": {
          "base_uri": "https://localhost:8080/"
        },
        "id": "00E8gsX3zhag",
        "outputId": "ce58be04-5916-4f9b-9d5d-ac24da8c73e1"
      },
      "execution_count": 11,
      "outputs": [
        {
          "output_type": "stream",
          "name": "stdout",
          "text": [
            "[0, 0, 0, 0, 0, 0, 1, 0, 0, 1, 0, -1, 0, 0, 1, 0, 0, 1, 0, 1, 0, 0, -1, 0, 0, 0, 1, 1, 1, 0, 0, -1, 0, -1, 0, 0, 0, 0, -1, 0, -1, 1, 0, 0, 0, 0, -1, 0, 0, 0, 0, 0, 0, 0, 0, 0, 0, 0, 0, 0, 0, 0, 0, 0, 0, 0, 0, 0, 0, 0, 0, 0, 0, 0, 0, 0, 0, 0, 0, 0, 0, 0, 0, 0, -1, 0, 1, 0, 1, 1, 0, 0, 0, 0, 0, 0, 1, 0, -1, 0]\n"
          ]
        }
      ]
    },
    {
      "cell_type": "markdown",
      "source": [
        "## 3.0.0 Downloading models from huggingface"
      ],
      "metadata": {
        "id": "vjQn6E7A95rp"
      }
    },
    {
      "cell_type": "markdown",
      "source": [
        "### 3.0.1 ProsusAI/finbert"
      ],
      "metadata": {
        "id": "sOlaHI17-Rnk"
      }
    },
    {
      "cell_type": "code",
      "source": [
        "finbert = pipeline(\"text-classification\", model = \"ProsusAI/finbert\")"
      ],
      "metadata": {
        "id": "0OGI8SVB9_qd"
      },
      "execution_count": 12,
      "outputs": []
    },
    {
      "cell_type": "code",
      "source": [
        "finbert('I love you')"
      ],
      "metadata": {
        "colab": {
          "base_uri": "https://localhost:8080/"
        },
        "id": "VIaiC6y2AaWK",
        "outputId": "3ed3f1fa-119e-4638-cd54-c788163b0ceb"
      },
      "execution_count": 13,
      "outputs": [
        {
          "output_type": "execute_result",
          "data": {
            "text/plain": [
              "[{'label': 'neutral', 'score': 0.8632259368896484}]"
            ]
          },
          "metadata": {},
          "execution_count": 13
        }
      ]
    },
    {
      "cell_type": "markdown",
      "source": [
        "### 3.0.2 lxyuan/distilbert-base-multilingual-cased-sentiments-student"
      ],
      "metadata": {
        "id": "rDnpHXJ_-eZb"
      }
    },
    {
      "cell_type": "code",
      "source": [
        "distilled_student_sentiment_classifier = pipeline(\"text-classification\", model=\"lxyuan/distilbert-base-multilingual-cased-sentiments-student\")"
      ],
      "metadata": {
        "id": "dYFeGWAz-i62"
      },
      "execution_count": 14,
      "outputs": []
    },
    {
      "cell_type": "code",
      "source": [
        "distilled_student_sentiment_classifier('I love you')"
      ],
      "metadata": {
        "colab": {
          "base_uri": "https://localhost:8080/"
        },
        "id": "AvzXzB-PAk77",
        "outputId": "a60aa81f-34e4-471a-ac9e-5fe866f24765"
      },
      "execution_count": 15,
      "outputs": [
        {
          "output_type": "execute_result",
          "data": {
            "text/plain": [
              "[{'label': 'positive', 'score': 0.969622790813446}]"
            ]
          },
          "metadata": {},
          "execution_count": 15
        }
      ]
    },
    {
      "cell_type": "markdown",
      "source": [
        "### 3.0.3 finiteautomata/bertweet-base-sentiment-analysis"
      ],
      "metadata": {
        "id": "TWUc1Xqv-2I-"
      }
    },
    {
      "cell_type": "code",
      "source": [
        "bertweet_base_sentiment_analysis = pipeline(\"text-classification\", model = \"finiteautomata/bertweet-base-sentiment-analysis\")"
      ],
      "metadata": {
        "id": "mhBSDVZu-3d_"
      },
      "execution_count": 16,
      "outputs": []
    },
    {
      "cell_type": "code",
      "source": [
        "bertweet_base_sentiment_analysis('I love you')"
      ],
      "metadata": {
        "colab": {
          "base_uri": "https://localhost:8080/"
        },
        "id": "ZZ2WXGld_9wd",
        "outputId": "8f7d3045-a63e-46af-90d1-9051da710665"
      },
      "execution_count": 17,
      "outputs": [
        {
          "output_type": "execute_result",
          "data": {
            "text/plain": [
              "[{'label': 'POS', 'score': 0.9916695356369019}]"
            ]
          },
          "metadata": {},
          "execution_count": 17
        }
      ]
    },
    {
      "cell_type": "markdown",
      "source": [
        "### 3.0.4 ahmedrachid/FinancialBERT-Sentiment-Analysis"
      ],
      "metadata": {
        "id": "ZWDpXTey_O3U"
      }
    },
    {
      "cell_type": "code",
      "source": [
        "financia_BERT_sentiment_analysis =  pipeline(\"text-classification\", model = \"ahmedrachid/FinancialBERT-Sentiment-Analysis\")"
      ],
      "metadata": {
        "id": "sViIZ59Q_QnW"
      },
      "execution_count": 18,
      "outputs": []
    },
    {
      "cell_type": "code",
      "source": [
        "financia_BERT_sentiment_analysis('I love you')"
      ],
      "metadata": {
        "colab": {
          "base_uri": "https://localhost:8080/"
        },
        "id": "irkf5jv3AGHJ",
        "outputId": "96237150-1bef-4159-e4cf-fd274d3c702e"
      },
      "execution_count": 19,
      "outputs": [
        {
          "output_type": "execute_result",
          "data": {
            "text/plain": [
              "[{'label': 'neutral', 'score': 0.9955909252166748}]"
            ]
          },
          "metadata": {},
          "execution_count": 19
        }
      ]
    },
    {
      "cell_type": "markdown",
      "source": [
        "## 4.0.0 Evaluation of models"
      ],
      "metadata": {
        "id": "I0PfAR1VCGIu"
      }
    },
    {
      "cell_type": "code",
      "source": [
        "def metrics(labels, scores):\n",
        "  accuracy = accuracy_score(labels, sentiment_scores)\n",
        "  precision = precision_score(labels, sentiment_scores, average='weighted', zero_division=1)\n",
        "  recall = recall_score(labels, sentiment_scores, average='weighted', zero_division=1)\n",
        "  f1 = f1_score(labels, sentiment_scores, average='weighted', zero_division=1)\n",
        "  conf_matrix = confusion_matrix(labels, sentiment_scores)\n",
        "\n",
        "  print(f\"Accuracy: {accuracy}\")\n",
        "  print(f\"Precision: {precision}\")\n",
        "  print(f\"Recall: {recall}\")\n",
        "  print(f\"F1 Score: {f1}\")"
      ],
      "metadata": {
        "id": "Lc3U-JT12pzE"
      },
      "execution_count": 20,
      "outputs": []
    },
    {
      "cell_type": "code",
      "source": [
        "def matrix_confusion(labels, scores):\n",
        "  conf_matrix = confusion_matrix(labels, sentiment_scores)\n",
        "  classes = [\"Negative\", \"Neutral\", \"Positive\"]\n",
        "\n",
        "  disp = ConfusionMatrixDisplay(confusion_matrix=conf_matrix, display_labels=classes)\n",
        "  disp.plot(cmap='Blues', values_format='d')\n",
        "  confusion_matrix(labels, sentiment_scores)"
      ],
      "metadata": {
        "id": "92MLV_3s3Dr3"
      },
      "execution_count": 21,
      "outputs": []
    },
    {
      "cell_type": "markdown",
      "source": [
        "### 4.1.0 ProsusAI/finbert"
      ],
      "metadata": {
        "id": "FBannqshCen5"
      }
    },
    {
      "cell_type": "markdown",
      "source": [
        "#### 4.1.1 Conducting sentiment classifications"
      ],
      "metadata": {
        "id": "83WPIY2F0JxF"
      }
    },
    {
      "cell_type": "code",
      "source": [
        "tokenizer = AutoTokenizer.from_pretrained(\"ProsusAI/finbert\")"
      ],
      "metadata": {
        "id": "WqGO6LYoCI1f"
      },
      "execution_count": 22,
      "outputs": []
    },
    {
      "cell_type": "code",
      "source": [
        "sentiment_scores = []\n",
        "labels_finbert_1 = labels_1.copy()\n",
        "labels_finbert_2 = labels_2.copy()\n",
        "\n",
        "for comment in comments:\n",
        "    tokens = tokenizer.encode(comment, add_special_tokens=True)\n",
        "    if len(tokens) < 512:\n",
        "        result = finbert(comment)\n",
        "        label = result[0]['label']\n",
        "\n",
        "        if label == 'negative':\n",
        "            score = -1\n",
        "        elif label == 'neutral':\n",
        "            score = 0\n",
        "        elif label == 'positive':\n",
        "            score = 1\n",
        "        else:\n",
        "            score = None\n",
        "\n",
        "        sentiment_scores.append(score)\n",
        "    else:\n",
        "        index_to_remove = comments.index(comment)\n",
        "        del labels_finbert_1[index_to_remove]\n",
        "        del labels_finbert_2[index_to_remove]\n"
      ],
      "metadata": {
        "id": "plEi32fgzwcc"
      },
      "execution_count": 23,
      "outputs": []
    },
    {
      "cell_type": "code",
      "source": [],
      "metadata": {
        "id": "Nc4KThx0_ZA_"
      },
      "execution_count": 23,
      "outputs": []
    },
    {
      "cell_type": "markdown",
      "source": [
        "#### 4.1.2 Metrics - label set number 1"
      ],
      "metadata": {
        "id": "4uiK4IaW0OHa"
      }
    },
    {
      "cell_type": "code",
      "source": [
        "metrics(labels_finbert_1, sentiment_scores)"
      ],
      "metadata": {
        "colab": {
          "base_uri": "https://localhost:8080/"
        },
        "id": "Vcqf5InE2-nu",
        "outputId": "3d5ed896-caf5-4901-e189-67d208349730"
      },
      "execution_count": 24,
      "outputs": [
        {
          "output_type": "stream",
          "name": "stdout",
          "text": [
            "Accuracy: 0.73\n",
            "Precision: 0.7686108273748722\n",
            "Recall: 0.73\n",
            "F1 Score: 0.6812335329341317\n"
          ]
        }
      ]
    },
    {
      "cell_type": "code",
      "source": [
        "matrix_confusion(labels_finbert_1, sentiment_scores)"
      ],
      "metadata": {
        "colab": {
          "base_uri": "https://localhost:8080/",
          "height": 450
        },
        "id": "yR8hFqkO4jSV",
        "outputId": "2fad7a63-2822-47b1-d060-cc0aacd05b04"
      },
      "execution_count": 25,
      "outputs": [
        {
          "output_type": "display_data",
          "data": {
            "text/plain": [
              "<Figure size 640x480 with 2 Axes>"
            ],
            "image/png": "[encoded data removed]"
          },
          "metadata": {}
        }
      ]
    },
    {
      "cell_type": "markdown",
      "source": [
        "#### 4.1.3 Metrics - label set number 2"
      ],
      "metadata": {
        "id": "0_0z0Ulk0Wpk"
      }
    },
    {
      "cell_type": "code",
      "source": [
        "metrics(labels_finbert_2, sentiment_scores)"
      ],
      "metadata": {
        "colab": {
          "base_uri": "https://localhost:8080/"
        },
        "id": "GyEghkas1hah",
        "outputId": "b2c6a6a0-b313-4fc9-dea2-127c3af79c81"
      },
      "execution_count": 26,
      "outputs": [
        {
          "output_type": "stream",
          "name": "stdout",
          "text": [
            "Accuracy: 0.73\n",
            "Precision: 0.7686108273748722\n",
            "Recall: 0.73\n",
            "F1 Score: 0.6812335329341317\n"
          ]
        }
      ]
    },
    {
      "cell_type": "code",
      "source": [
        "matrix_confusion(labels_finbert_2, sentiment_scores)"
      ],
      "metadata": {
        "colab": {
          "base_uri": "https://localhost:8080/",
          "height": 450
        },
        "id": "wUlncoOO1kTT",
        "outputId": "6397e656-dd0f-45af-b863-c71f987343d3"
      },
      "execution_count": 27,
      "outputs": [
        {
          "output_type": "display_data",
          "data": {
            "text/plain": [
              "<Figure size 640x480 with 2 Axes>"
            ],
            "image/png": "[encoded data removed]"
          },
          "metadata": {}
        }
      ]
    },
    {
      "cell_type": "markdown",
      "source": [
        "### 4.2.0 lxyuan"
      ],
      "metadata": {
        "id": "qgWBvfO0Fhr6"
      }
    },
    {
      "cell_type": "markdown",
      "source": [
        "#### 4.2.1 Conducting sentiment classifications"
      ],
      "metadata": {
        "id": "z09buBRL0na7"
      }
    },
    {
      "cell_type": "code",
      "source": [
        "sentiment_scores = []\n",
        "\n",
        "for comment in comments:\n",
        "      result = distilled_student_sentiment_classifier(comment)\n",
        "      label = result[0]['label']\n",
        "\n",
        "      if label == 'negative':\n",
        "          score = -1\n",
        "      elif label == 'neutral':\n",
        "          score = 0\n",
        "      elif label == 'positive':\n",
        "          score = 1\n",
        "      else:\n",
        "          score = None\n",
        "\n",
        "      sentiment_scores.append(score)\n",
        "\n"
      ],
      "metadata": {
        "id": "-25SE7MzFjI1"
      },
      "execution_count": 28,
      "outputs": []
    },
    {
      "cell_type": "markdown",
      "source": [
        "#### 4.2.2 Metrics - label set number 1"
      ],
      "metadata": {
        "id": "-iyVHnuf0rck"
      }
    },
    {
      "cell_type": "code",
      "source": [
        "metrics(labels_1, sentiment_scores)"
      ],
      "metadata": {
        "colab": {
          "base_uri": "https://localhost:8080/"
        },
        "id": "aDPT0Gao5MpA",
        "outputId": "e2f1855a-d5df-405c-d178-bcbb931da8dd"
      },
      "execution_count": 29,
      "outputs": [
        {
          "output_type": "stream",
          "name": "stdout",
          "text": [
            "Accuracy: 0.17\n",
            "Precision: 0.42619450317124735\n",
            "Recall: 0.17\n",
            "F1 Score: 0.07850452488687784\n"
          ]
        }
      ]
    },
    {
      "cell_type": "code",
      "source": [
        "matrix_confusion(labels_1, sentiment_scores)"
      ],
      "metadata": {
        "colab": {
          "base_uri": "https://localhost:8080/",
          "height": 449
        },
        "id": "-I8JnCH_5Nuq",
        "outputId": "6234e9bc-6d30-4df1-e13c-33e3879c9ac8"
      },
      "execution_count": 30,
      "outputs": [
        {
          "output_type": "display_data",
          "data": {
            "text/plain": [
              "<Figure size 640x480 with 2 Axes>"
            ],
            "image/png": "[encoded data removed]"
          },
          "metadata": {}
        }
      ]
    },
    {
      "cell_type": "markdown",
      "source": [
        "#### 4.2.3 Metrics - label set number 2"
      ],
      "metadata": {
        "id": "wUyXiZJS0tdO"
      }
    },
    {
      "cell_type": "code",
      "source": [
        "metrics(labels_1, sentiment_scores)"
      ],
      "metadata": {
        "colab": {
          "base_uri": "https://localhost:8080/"
        },
        "id": "FJEWAkM_1qzC",
        "outputId": "951f1d97-86e6-4b4f-da7d-ab67a84349d2"
      },
      "execution_count": 31,
      "outputs": [
        {
          "output_type": "stream",
          "name": "stdout",
          "text": [
            "Accuracy: 0.17\n",
            "Precision: 0.42619450317124735\n",
            "Recall: 0.17\n",
            "F1 Score: 0.07850452488687784\n"
          ]
        }
      ]
    },
    {
      "cell_type": "code",
      "source": [
        "matrix_confusion(labels_1, sentiment_scores)"
      ],
      "metadata": {
        "colab": {
          "base_uri": "https://localhost:8080/",
          "height": 449
        },
        "id": "AWJFCFTY1rzv",
        "outputId": "0058dafb-2b8e-41d9-ffc0-04d113119998"
      },
      "execution_count": 32,
      "outputs": [
        {
          "output_type": "display_data",
          "data": {
            "text/plain": [
              "<Figure size 640x480 with 2 Axes>"
            ],
            "image/png": "[encoded data removed]"
          },
          "metadata": {}
        }
      ]
    },
    {
      "cell_type": "markdown",
      "source": [
        "### 4.3.0 finiteautomata"
      ],
      "metadata": {
        "id": "-_9IkSEWGAtQ"
      }
    },
    {
      "cell_type": "markdown",
      "source": [
        "#### 4.3.1 Conducting sentiment classifications"
      ],
      "metadata": {
        "id": "WgoPM9m40yi6"
      }
    },
    {
      "cell_type": "code",
      "source": [
        "tokenizer = AutoTokenizer.from_pretrained(\"finiteautomata/bertweet-base-sentiment-analysis\")"
      ],
      "metadata": {
        "id": "C5sXIS326ToN"
      },
      "execution_count": 33,
      "outputs": []
    },
    {
      "cell_type": "code",
      "source": [
        "sentiment_scores = []\n",
        "labels_finiteautomata_1 = labels_1.copy()\n",
        "labels_finiteautomata_2 = labels_2.copy()\n",
        "\n",
        "for comment in comments:\n",
        "    tokens = tokenizer.encode(comment, add_special_tokens=True)\n",
        "    if len(tokens) < 100:\n",
        "        result = bertweet_base_sentiment_analysis(comment)\n",
        "        label = result[0]['label']\n",
        "\n",
        "        score = {'NEG': -1, 'NEU': 0, 'POS': 1}.get(label)\n",
        "\n",
        "        if score is not None:\n",
        "            sentiment_scores.append(score)\n",
        "            labels_finiteautomata_1.append(labels_finiteautomata_1[-1])\n",
        "            labels_finiteautomata_2.append(labels_finiteautomata_2[-1])\n",
        "\n",
        "labels_finiteautomata_1 = labels_finiteautomata_1[:len(sentiment_scores)]\n",
        "labels_finiteautomata_2 = labels_finiteautomata_2[:len(sentiment_scores)]\n"
      ],
      "metadata": {
        "id": "FG9eqSAzGB9O"
      },
      "execution_count": 34,
      "outputs": []
    },
    {
      "cell_type": "code",
      "source": [
        "len(labels_1)"
      ],
      "metadata": {
        "colab": {
          "base_uri": "https://localhost:8080/"
        },
        "id": "pFCJFLd2_nuj",
        "outputId": "802915ad-fa01-46f4-edc2-a3303ab45b1a"
      },
      "execution_count": 35,
      "outputs": [
        {
          "output_type": "execute_result",
          "data": {
            "text/plain": [
              "100"
            ]
          },
          "metadata": {},
          "execution_count": 35
        }
      ]
    },
    {
      "cell_type": "markdown",
      "source": [
        "#### 4.3.2 Metrics - label set number 1\n"
      ],
      "metadata": {
        "id": "PiEsrDkY02y2"
      }
    },
    {
      "cell_type": "code",
      "source": [
        "metrics(labels_finiteautomata_1, sentiment_scores)"
      ],
      "metadata": {
        "id": "tB_tiKmeGDXK",
        "colab": {
          "base_uri": "https://localhost:8080/"
        },
        "outputId": "7d990896-d6df-4131-bc9d-3ded446ee8e1"
      },
      "execution_count": 36,
      "outputs": [
        {
          "output_type": "stream",
          "name": "stdout",
          "text": [
            "Accuracy: 0.6868686868686869\n",
            "Precision: 0.8433775572813006\n",
            "Recall: 0.6868686868686869\n",
            "F1 Score: 0.7218930375180376\n"
          ]
        }
      ]
    },
    {
      "cell_type": "code",
      "source": [
        "matrix_confusion(labels_finiteautomata_1, sentiment_scores)"
      ],
      "metadata": {
        "id": "upeyyRhUGEHY",
        "colab": {
          "base_uri": "https://localhost:8080/",
          "height": 449
        },
        "outputId": "352d8c0c-7c8a-45a1-eacf-b3fe98c0b179"
      },
      "execution_count": 37,
      "outputs": [
        {
          "output_type": "display_data",
          "data": {
            "text/plain": [
              "<Figure size 640x480 with 2 Axes>"
            ],
            "image/png": "[encoded data removed]"
          },
          "metadata": {}
        }
      ]
    },
    {
      "cell_type": "markdown",
      "source": [
        "#### 4.3.3 Metrics - label set number 2"
      ],
      "metadata": {
        "id": "rAym02YC04zz"
      }
    },
    {
      "cell_type": "code",
      "source": [
        "metrics(labels_finiteautomata_2, sentiment_scores)"
      ],
      "metadata": {
        "colab": {
          "base_uri": "https://localhost:8080/"
        },
        "id": "Ywc-_g802HSs",
        "outputId": "95bf8459-f596-446b-963a-9bff795a2846"
      },
      "execution_count": 38,
      "outputs": [
        {
          "output_type": "stream",
          "name": "stdout",
          "text": [
            "Accuracy: 0.6868686868686869\n",
            "Precision: 0.8433775572813006\n",
            "Recall: 0.6868686868686869\n",
            "F1 Score: 0.7218930375180376\n"
          ]
        }
      ]
    },
    {
      "cell_type": "code",
      "source": [
        "matrix_confusion(labels_finiteautomata_2, sentiment_scores)"
      ],
      "metadata": {
        "colab": {
          "base_uri": "https://localhost:8080/",
          "height": 449
        },
        "id": "9z_O5PcC2IvX",
        "outputId": "f9f3d0e4-10c8-4485-de58-4d685ed46a09"
      },
      "execution_count": 39,
      "outputs": [
        {
          "output_type": "display_data",
          "data": {
            "text/plain": [
              "<Figure size 640x480 with 2 Axes>"
            ],
            "image/png": "[encoded data removed]"
          },
          "metadata": {}
        }
      ]
    },
    {
      "cell_type": "markdown",
      "source": [
        "### 4.4.0 ahmedrachid"
      ],
      "metadata": {
        "id": "Y6wMscAYGjm9"
      }
    },
    {
      "cell_type": "markdown",
      "source": [
        "### 4.4.1 Conducting sentiment classifications\n"
      ],
      "metadata": {
        "id": "wUrSqho808UO"
      }
    },
    {
      "cell_type": "code",
      "source": [
        "sentiment_scores = []\n",
        "\n",
        "for comment in comments:\n",
        "      result = financia_BERT_sentiment_analysis(comment)\n",
        "      label = result[0]['label']\n",
        "\n",
        "      if label == 'negative':\n",
        "          score = -1\n",
        "      elif label == 'neutral':\n",
        "          score = 0\n",
        "      elif label == 'positive':\n",
        "          score = 1\n",
        "      else:\n",
        "          score = None\n",
        "\n",
        "      sentiment_scores.append(score)\n",
        "\n"
      ],
      "metadata": {
        "id": "8SzAgRX0GlIX"
      },
      "execution_count": 40,
      "outputs": []
    },
    {
      "cell_type": "code",
      "source": [
        "len(sentiment_scores)"
      ],
      "metadata": {
        "colab": {
          "base_uri": "https://localhost:8080/"
        },
        "id": "13OIfnmv6Cm_",
        "outputId": "5820b5d8-49f8-4a53-cd60-779522cda1b8"
      },
      "execution_count": 41,
      "outputs": [
        {
          "output_type": "execute_result",
          "data": {
            "text/plain": [
              "100"
            ]
          },
          "metadata": {},
          "execution_count": 41
        }
      ]
    },
    {
      "cell_type": "code",
      "source": [
        "len(labels_1)"
      ],
      "metadata": {
        "colab": {
          "base_uri": "https://localhost:8080/"
        },
        "id": "Gi653UF-6Eie",
        "outputId": "d4dfe8fd-8b12-4dc7-852b-b5b4f5508825"
      },
      "execution_count": 42,
      "outputs": [
        {
          "output_type": "execute_result",
          "data": {
            "text/plain": [
              "100"
            ]
          },
          "metadata": {},
          "execution_count": 42
        }
      ]
    },
    {
      "cell_type": "markdown",
      "source": [
        "\n",
        "#### 4.4.2 Metrics - label set number 1\n"
      ],
      "metadata": {
        "id": "nHXxfMdu0_TE"
      }
    },
    {
      "cell_type": "code",
      "source": [
        "metrics(labels_1, sentiment_scores)"
      ],
      "metadata": {
        "id": "tTzaUi8cGnuQ",
        "colab": {
          "base_uri": "https://localhost:8080/"
        },
        "outputId": "2b98a6f8-6e66-4a6c-94aa-8f4d287a8531"
      },
      "execution_count": 43,
      "outputs": [
        {
          "output_type": "stream",
          "name": "stdout",
          "text": [
            "Accuracy: 0.77\n",
            "Precision: 0.7682894736842105\n",
            "Recall: 0.77\n",
            "F1 Score: 0.7087181604522645\n"
          ]
        }
      ]
    },
    {
      "cell_type": "code",
      "source": [
        "matrix_confusion(labels_2, sentiment_scores)"
      ],
      "metadata": {
        "colab": {
          "base_uri": "https://localhost:8080/",
          "height": 449
        },
        "id": "dgMq0yS6Go50",
        "outputId": "78eb6634-c35c-4ab4-9e64-8d40fc80d387"
      },
      "execution_count": 44,
      "outputs": [
        {
          "output_type": "display_data",
          "data": {
            "text/plain": [
              "<Figure size 640x480 with 2 Axes>"
            ],
            "image/png": "[encoded data removed]"
          },
          "metadata": {}
        }
      ]
    },
    {
      "cell_type": "markdown",
      "source": [
        "#### 4.4.3 Metrics - label set number 2"
      ],
      "metadata": {
        "id": "zn12ATY51Ayh"
      }
    },
    {
      "cell_type": "code",
      "source": [
        "metrics(labels_1, sentiment_scores)"
      ],
      "metadata": {
        "colab": {
          "base_uri": "https://localhost:8080/"
        },
        "id": "gVl7OyVK1ChL",
        "outputId": "1b191707-07c6-455a-baec-fedf05950331"
      },
      "execution_count": 45,
      "outputs": [
        {
          "output_type": "stream",
          "name": "stdout",
          "text": [
            "Accuracy: 0.77\n",
            "Precision: 0.7682894736842105\n",
            "Recall: 0.77\n",
            "F1 Score: 0.7087181604522645\n"
          ]
        }
      ]
    },
    {
      "cell_type": "code",
      "source": [
        "matrix_confusion(labels_2, sentiment_scores)"
      ],
      "metadata": {
        "colab": {
          "base_uri": "https://localhost:8080/",
          "height": 449
        },
        "id": "h2ehAiOS2NNm",
        "outputId": "44edea82-530f-4f4e-d3b9-ac98da76be58"
      },
      "execution_count": 46,
      "outputs": [
        {
          "output_type": "display_data",
          "data": {
            "text/plain": [
              "<Figure size 640x480 with 2 Axes>"
            ],
            "image/png": "[encoded data removed]"
          },
          "metadata": {}
        }
      ]
    }
  ]
}